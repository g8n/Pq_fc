{
 "cells": [
  {
   "cell_type": "code",
   "execution_count": 1,
   "metadata": {},
   "outputs": [],
   "source": [
    "import pandas as pd\n",
    "from datetime import datetime\n",
    "from dateutil.parser import parse\n",
    "import numpy as np\n",
    "import math"
   ]
  },
  {
   "cell_type": "code",
   "execution_count": 2,
   "metadata": {},
   "outputs": [],
   "source": [
    "##Importo para df costos Andesmar\n",
    "#df troncal\n",
    "dfc_tron_and = pd.read_excel('cos_tronc_and.xlsx')\n",
    "#df entrega\n",
    "dfc_ent_and = pd.read_excel('cos_ent_and.xlsx')\n",
    "#df nomenclador\n",
    "df_nom_and = pd.read_excel ('nom_and.xlsx')"
   ]
  },
  {
   "cell_type": "code",
   "execution_count": 3,
   "metadata": {},
   "outputs": [],
   "source": [
    "##Completo Codigos Postales que no se encuentran en nomeclador\n",
    "\n",
    "df_nom_and = df_nom_and.append({'Codigo Postal': 2013,\n",
    "             'Provincia': 'SANTA FE',\n",
    "             'TRONCAL':'Zona I',\n",
    "             'ULTIMA MILLA':'Cabecera',\n",
    "             'Operador':'LH-Paquery'}, ignore_index=True)\n",
    "\n",
    "df_nom_and = df_nom_and.append({'Codigo Postal': 2189,\n",
    "             'Provincia': 'CORDOBA',\n",
    "             'TRONCAL':'Zona II',\n",
    "             'ULTIMA MILLA':'Interior II',\n",
    "             'Operador':'Andesmar'}, ignore_index=True)\n",
    "\n",
    "df_nom_and = df_nom_and.append({'Codigo Postal': 5019,\n",
    "             'Provincia': 'CORDOBA',\n",
    "             'TRONCAL':'Zona II',\n",
    "             'ULTIMA MILLA':'Cabecera',\n",
    "             'Operador':'Andesmar'}, ignore_index=True)"
   ]
  },
  {
   "cell_type": "code",
   "execution_count": 4,
   "metadata": {},
   "outputs": [],
   "source": [
    "dfc_tron_and = pd.melt(dfc_tron_and, id_vars=['Tamaño_and',\n",
    "                                                'Tamaño_and_2',\n",
    "                                                'peso_and',\n",
    "                                                'zona_and',\n",
    "                                                'año_and'],\n",
    "        var_name='mes_and',\n",
    "        value_name='costo_tron')"
   ]
  },
  {
   "cell_type": "code",
   "execution_count": 5,
   "metadata": {},
   "outputs": [],
   "source": [
    "dfc_ent_and = pd.melt(dfc_ent_and, id_vars=['Tamaño_and',\n",
    "                                                'Tamaño_and_2',\n",
    "                                                'peso_and',\n",
    "                                                'año_and',\n",
    "                                           'sub-zona_and'],\n",
    "        var_name='mes_and',\n",
    "        value_name='costo_ent')"
   ]
  },
  {
   "cell_type": "code",
   "execution_count": 6,
   "metadata": {},
   "outputs": [],
   "source": [
    "dfc_and = pd.merge(df_nom_and, dfc_tron_and, how='left', left_on='TRONCAL', right_on='zona_and', sort=True)"
   ]
  },
  {
   "cell_type": "code",
   "execution_count": 7,
   "metadata": {},
   "outputs": [],
   "source": [
    "#cols_dfc_and = dfc_ent_and.columns.difference(dfc_and.columns)\n",
    "#dfNew = merge(dfc_and, dfc_ent_and[cols_dfc_and], left_index=True, right_index=True, how='outer')\n",
    "\n",
    "\n",
    "dfc_and = pd.merge(dfc_and, dfc_ent_and, how='left', left_on=['ULTIMA MILLA', 'Tamaño_and', 'Tamaño_and_2', 'peso_and','mes_and', 'año_and'],\n",
    "                   right_on=['sub-zona_and', 'Tamaño_and', 'Tamaño_and_2', 'peso_and','mes_and', 'año_and'], sort=True)"
   ]
  },
  {
   "cell_type": "code",
   "execution_count": 8,
   "metadata": {},
   "outputs": [],
   "source": [
    "dfpx = pd.read_excel ('px 051120.xlsx') ##CAMBIO MATRIZ COMPLETA PARA TODA LA HISTORIA"
   ]
  },
  {
   "cell_type": "code",
   "execution_count": 9,
   "metadata": {},
   "outputs": [],
   "source": [
    "dfpx['Año'] = 2020"
   ]
  },
  {
   "cell_type": "code",
   "execution_count": 10,
   "metadata": {},
   "outputs": [],
   "source": [
    "dfpx.rename(columns={'Febrero':2, 'Marzo':3, 'Abril':4,\n",
    "       'Mayo':5, 'Junio':6, 'Julio':7, 'Agosto':8, 'Septiembre':9, 'Octubre':10,\n",
    "       'Noviembre':11, 'Diciembre':12}, inplace=True)"
   ]
  },
  {
   "cell_type": "code",
   "execution_count": 11,
   "metadata": {},
   "outputs": [],
   "source": [
    "##Cargo enero igual a febrero\n",
    "dfpx[1] = dfpx[2]"
   ]
  },
  {
   "cell_type": "code",
   "execution_count": 12,
   "metadata": {},
   "outputs": [],
   "source": [
    "dfpx.drop(['Macheo Facturación (Archivo Matriz)'], axis=1, inplace=True)\n",
    "dfpx.drop(['Propietario'], axis=1, inplace=True)\n",
    "dfpx.drop(['CUIT'], axis=1, inplace=True)\n",
    "\n",
    "##Parche que usa Bonzo para cerrar el mes con los precios de plataforma\n",
    "dfpx = dfpx.loc[~(dfpx['Razón Social']=='Para macheo Agosto')]\n",
    "dfpx.drop(['Razón Social'], axis=1, inplace=True)"
   ]
  },
  {
   "cell_type": "code",
   "execution_count": 13,
   "metadata": {},
   "outputs": [],
   "source": [
    "dfpx['Ámbito Geográfico'] = dfpx['Ámbito Geográfico'].str.lower().str.strip().str.replace(' ', '_').str.replace('á', 'a').str.replace('é', 'e').str.replace('í', 'i').str.replace('ó', 'o').str.replace('ú', 'u')\n",
    "dfpx['Cliente'] = dfpx['Cliente'].str.lower().str.strip().str.replace(' ', '_').str.replace('á', 'a').str.replace('é', 'e').str.replace('í', 'i').str.replace('ó', 'o').str.replace('ú', 'u')"
   ]
  },
  {
   "cell_type": "code",
   "execution_count": 14,
   "metadata": {},
   "outputs": [],
   "source": [
    "##Empato los tipos de servicios de la app con los de dataset precios\n",
    "dfts = pd.read_excel ('Tipo de servicio.xlsx')\n",
    "\n",
    "dfpx['Tipo de Servicio'] = dfpx['Tipo de Servicio'].str.lower().str.strip().str.replace(' ', '_').str.replace('á', 'a').str.replace('é', 'e').str.replace('í', 'i').str.replace('ó', 'o').str.replace('ú', 'u')\n",
    "dfts['Tipo de Servicio'] = dfts['Tipo de Servicio'].str.lower().str.strip().str.replace(' ', '_').str.replace('á', 'a').str.replace('é', 'e').str.replace('í', 'i').str.replace('ó', 'o').str.replace('ú', 'u')\n",
    "dfts['Tipo_app_px'] = dfts['Tipo_app_px'].str.lower().str.strip().str.replace(' ', '_').str.replace('á', 'a').str.replace('é', 'e').str.replace('í', 'i').str.replace('ó', 'o').str.replace('ú', 'u')\n",
    "\n",
    "dfpx = pd.merge(dfpx, dfts, how='left', left_on='Tipo de Servicio', right_on='Tipo de Servicio', sort=True)"
   ]
  },
  {
   "cell_type": "code",
   "execution_count": 15,
   "metadata": {},
   "outputs": [
    {
     "data": {
      "text/html": [
       "<div>\n",
       "<style scoped>\n",
       "    .dataframe tbody tr th:only-of-type {\n",
       "        vertical-align: middle;\n",
       "    }\n",
       "\n",
       "    .dataframe tbody tr th {\n",
       "        vertical-align: top;\n",
       "    }\n",
       "\n",
       "    .dataframe thead th {\n",
       "        text-align: right;\n",
       "    }\n",
       "</style>\n",
       "<table border=\"1\" class=\"dataframe\">\n",
       "  <thead>\n",
       "    <tr style=\"text-align: right;\">\n",
       "      <th></th>\n",
       "      <th>Tipo_app_px</th>\n",
       "      <th>Tipo de Servicio</th>\n",
       "    </tr>\n",
       "  </thead>\n",
       "  <tbody>\n",
       "    <tr>\n",
       "      <td>0</td>\n",
       "      <td>enviar</td>\n",
       "      <td>paq_delivery</td>\n",
       "    </tr>\n",
       "    <tr>\n",
       "      <td>1</td>\n",
       "      <td>store_withdrawal</td>\n",
       "      <td>paq_store</td>\n",
       "    </tr>\n",
       "    <tr>\n",
       "      <td>2</td>\n",
       "      <td>pick_up</td>\n",
       "      <td>paq_pick_up</td>\n",
       "    </tr>\n",
       "    <tr>\n",
       "      <td>3</td>\n",
       "      <td>enviar</td>\n",
       "      <td>uso_de_plataforma</td>\n",
       "    </tr>\n",
       "    <tr>\n",
       "      <td>4</td>\n",
       "      <td>flex</td>\n",
       "      <td>flex</td>\n",
       "    </tr>\n",
       "  </tbody>\n",
       "</table>\n",
       "</div>"
      ],
      "text/plain": [
       "        Tipo_app_px   Tipo de Servicio\n",
       "0            enviar       paq_delivery\n",
       "1  store_withdrawal          paq_store\n",
       "2           pick_up        paq_pick_up\n",
       "3            enviar  uso_de_plataforma\n",
       "4              flex               flex"
      ]
     },
     "execution_count": 15,
     "metadata": {},
     "output_type": "execute_result"
    }
   ],
   "source": [
    "dfts"
   ]
  },
  {
   "cell_type": "code",
   "execution_count": 16,
   "metadata": {},
   "outputs": [],
   "source": [
    "#df precios pick up\n",
    "dfpick = dfpx.loc[(dfpx['Tipo de Servicio']=='paq_pick_up')]"
   ]
  },
  {
   "cell_type": "code",
   "execution_count": 17,
   "metadata": {},
   "outputs": [],
   "source": [
    "dfpx = dfpx.append({'Razón Social': 'BE ENTERPRISES S.A.',\n",
    "             'CUIT': '30-71007968-0',\n",
    "             'Cliente':'Akiabara',\n",
    "             'Tipo de Servicio':'paq_delivery',\n",
    "             'Plazo':'Mismo dia',\n",
    "             'Ámbito Geográfico': 'CABA',\n",
    "             'Tamaño': 'Chico',\n",
    "             'Año': 2020, 8: 130}, ignore_index=True)\n",
    "dfpx = dfpx.append({'Razón Social': 'BE ENTERPRISES S.A.',\n",
    "             'CUIT': '30-71007968-0',\n",
    "             'Cliente':'Akiabara',\n",
    "             'Tipo de Servicio':'paq_delivery',\n",
    "             'Plazo':'Mismo dia',\n",
    "             'Ámbito Geográfico': 'AMBA I',\n",
    "             'Tamaño': 'Chico',\n",
    "             'Año': 2020, 8: 169}, ignore_index=True)\n",
    "dfpx = dfpx.append({'Razón Social': 'BE ENTERPRISES S.A.',\n",
    "             'CUIT': '30-71007968-0',\n",
    "             'Cliente':'Akiabara',\n",
    "             'Tipo de Servicio':'paq_delivery',\n",
    "             'Plazo':'Mismo dia',\n",
    "             'Ámbito Geográfico': 'AMBA II',\n",
    "             'Tamaño': 'Chico',\n",
    "             'Año': 2020, 8: 219}, ignore_index=True)\n",
    "dfpx = dfpx.append({'Razón Social': 'BE ENTERPRISES S.A.',\n",
    "             'CUIT': '30-71007968-0',\n",
    "             'Cliente':'Akiabara',\n",
    "             'Tipo de Servicio':'paq_store',\n",
    "             'Plazo':'Plazo 48 hs',\n",
    "             'Ámbito Geográfico': 'CABA',\n",
    "             'Tamaño': 'Chico',\n",
    "             'Año': 2020, 8: 206*.6}, ignore_index=True)\n",
    "dfpx = dfpx.append({'Razón Social': 'BE ENTERPRISES S.A.',\n",
    "             'CUIT': '30-71007968-0',\n",
    "             'Cliente':'Akiabara',\n",
    "             'Tipo de Servicio':'paq_store',\n",
    "             'Plazo':'Plazo 48 hs',\n",
    "             'Ámbito Geográfico': 'AMBA I',\n",
    "             'Tamaño': 'Chico',\n",
    "             'Año': 2020, 8: 379*.6}, ignore_index=True)\n",
    "dfpx = dfpx.append({'Razón Social': 'BE ENTERPRISES S.A.',\n",
    "             'CUIT': '30-71007968-0',\n",
    "             'Cliente':'Akiabara',\n",
    "             'Tipo de Servicio':'paq_store',\n",
    "             'Plazo':'Plazo 48 hs',\n",
    "             'Ámbito Geográfico': 'AMBA I',\n",
    "             'Tamaño': 'Grande',\n",
    "             'Año': 2020, 8: (379*1.3*1.3)*.6}, ignore_index=True)"
   ]
  },
  {
   "cell_type": "code",
   "execution_count": 18,
   "metadata": {},
   "outputs": [],
   "source": [
    "dfpx = dfpx.append({'Razón Social': 'ANDESMAR CARGAS SOCIEDAD ANONIMA',\n",
    "             'CUIT': '30-60150277-8',\n",
    "             'Cliente':'Andesmar',\n",
    "             'Tipo de Servicio':'paq_delivery',\n",
    "             'Plazo':'Plazo 48 hs',\n",
    "             'Ámbito Geográfico': 'Mendoza Cabecera',\n",
    "             'Tamaño': 'Chico',\n",
    "             'Año': 2020, 8: 78}, ignore_index=True)\n",
    "dfpx = dfpx.append({'Razón Social': 'ANDESMAR CARGAS SOCIEDAD ANONIMA',\n",
    "             'CUIT': '30-60150277-8',\n",
    "             'Cliente':'Andesmar',\n",
    "             'Tipo de Servicio':'paq_delivery',\n",
    "             'Plazo':'Plazo 48 hs',\n",
    "             'Ámbito Geográfico': 'Mendoza Interior',\n",
    "             'Tamaño': 'Chico',\n",
    "             'Año': 2020, 8: 78}, ignore_index=True)"
   ]
  },
  {
   "cell_type": "code",
   "execution_count": 19,
   "metadata": {},
   "outputs": [],
   "source": [
    "##Elimino los tipos de servicios que no tienen utilidad para los paquetes\n",
    "\n",
    "dfpx = dfpx.loc[~(dfpx['Tipo de Servicio']=='paq_pick_up') &\n",
    "                ~(dfpx['Tipo de Servicio']=='paq_collect') &\n",
    "                ~(dfpx['Tipo de Servicio']=='paq_point') &\n",
    "                ~(dfpx['Tipo de Servicio']=='paq_retiro') &\n",
    "                ~(dfpx['Tipo de Servicio']=='seguro') &\n",
    "                ~(dfpx['Tipo de Servicio']=='entrega_a_locales') &\n",
    "                ~(dfpx['Tipo de Servicio']=='uso_de_plataforma')]"
   ]
  },
  {
   "cell_type": "code",
   "execution_count": 20,
   "metadata": {},
   "outputs": [],
   "source": [
    "dfpx = pd.melt(dfpx, id_vars=['Razón Social',\n",
    "                                      'CUIT',\n",
    "                                   'Cliente',\n",
    "                          'Tipo de Servicio',\n",
    "                                     'Plazo',\n",
    "                         'Ámbito Geográfico',\n",
    "                                    'Tamaño',\n",
    "                                       'Año',\n",
    "            'Rango de paquetes (Plataforma)',\n",
    "                              'Tipo_app_px'],\n",
    "        var_name='Mes',\n",
    "        value_name='Precio')"
   ]
  },
  {
   "cell_type": "code",
   "execution_count": 21,
   "metadata": {},
   "outputs": [],
   "source": [
    "dfpx.dropna(subset=['Precio'], inplace=True)\n",
    "dfpx['Linea_px'] = 'Paquetes'"
   ]
  },
  {
   "cell_type": "code",
   "execution_count": 22,
   "metadata": {},
   "outputs": [
    {
     "data": {
      "text/plain": [
       "flex    5\n",
       "Name: Tipo_app_px, dtype: int64"
      ]
     },
     "execution_count": 22,
     "metadata": {},
     "output_type": "execute_result"
    }
   ],
   "source": [
    "dfpx['Tipo_app_px'].head().value_counts()"
   ]
  },
  {
   "cell_type": "code",
   "execution_count": 23,
   "metadata": {},
   "outputs": [],
   "source": [
    "#dfpx_pl['Rango_paquetes'] = dfpx_pl['Rango de paquetes (Plataforma)'].str.extract('(\\d+)')"
   ]
  },
  {
   "cell_type": "code",
   "execution_count": 24,
   "metadata": {},
   "outputs": [
    {
     "data": {
      "text/plain": [
       "datetime.timedelta(seconds=133, microseconds=783872)"
      ]
     },
     "execution_count": 24,
     "metadata": {},
     "output_type": "execute_result"
    }
   ],
   "source": [
    "inicio = datetime.now()\n",
    "dfpq1 = pd.read_excel('ene20 a jul20.xlsx')\n",
    "dfpq2 = pd.read_excel('ago20.xlsx')\n",
    "dfpq3 = pd.read_excel('sep20.xlsx')\n",
    "dfpq4 = pd.read_excel('oct20.xlsx')\n",
    "datetime.now() - inicio"
   ]
  },
  {
   "cell_type": "code",
   "execution_count": 25,
   "metadata": {},
   "outputs": [],
   "source": [
    "frames = [dfpq1, dfpq2, dfpq3, dfpq4]\n",
    "\n",
    "dfpq = pd.concat(frames, sort=True, ignore_index=True)"
   ]
  },
  {
   "cell_type": "code",
   "execution_count": 26,
   "metadata": {},
   "outputs": [
    {
     "data": {
      "text/plain": [
       "(337184, 33)"
      ]
     },
     "execution_count": 26,
     "metadata": {},
     "output_type": "execute_result"
    }
   ],
   "source": [
    "dfpq.shape"
   ]
  },
  {
   "cell_type": "code",
   "execution_count": 27,
   "metadata": {},
   "outputs": [],
   "source": [
    "dfpq['Empresa'] = dfpq['Empresa'].str.lower().str.strip().str.replace(' ', '_').str.replace('á', 'a').str.replace('é', 'e').str.replace('í', 'i').str.replace('ó', 'o').str.replace('ú', 'u')\n",
    "dfpq['OPL Entrega'] = dfpq['OPL Entrega'].str.lower().str.strip().str.replace(' ', '_').str.replace('á', 'a').str.replace('é', 'e').str.replace('í', 'i').str.replace('ó', 'o').str.replace('ú', 'u')\n",
    "dfpq['OPL Paquer'] = dfpq['OPL Paquer'].str.lower().str.strip().str.replace(' ', '_').str.replace('á', 'a').str.replace('é', 'e').str.replace('í', 'i').str.replace('ó', 'o').str.replace('ú', 'u')\n",
    "dfpq['Tipo'] = dfpq['Tipo'].str.lower().str.strip().str.replace(' ', '_').str.replace('á', 'a').str.replace('é', 'e').str.replace('í', 'i').str.replace('ó', 'o').str.replace('ú', 'u')"
   ]
  },
  {
   "cell_type": "code",
   "execution_count": 28,
   "metadata": {},
   "outputs": [],
   "source": [
    "#Existe el Recibir?\n",
    "dfpq.loc[(dfpq['Tipo']=='recibir'), 'Tipo'] = 'enviar'\n",
    "\n",
    "dfpq.loc[((dfpq['Empresa']=='ups') & (dfpq['Tipo']=='store_withdrawal')), 'Tipo'] = 'enviar'\n",
    "dfpq.loc[((dfpq['Empresa']=='dvigi') & (dfpq['Tipo']=='store_withdrawal')), 'Tipo'] = 'enviar'"
   ]
  },
  {
   "cell_type": "code",
   "execution_count": 29,
   "metadata": {},
   "outputs": [],
   "source": [
    "dfpq['Creación']= pd.to_datetime(dfpq['Creación'])\n",
    "dfpq['Fecha de Ingreso a Paquery']= pd.to_datetime(dfpq['Fecha de Ingreso a Paquery']) \n",
    "dfpq['Arribo a Paquery Point']= pd.to_datetime(dfpq['Arribo a Paquery Point'])\n",
    "dfpq['Fecha en Poder']= pd.to_datetime(dfpq['Fecha en Poder'])\n",
    "dfpq['Fecha de entrega']= pd.to_datetime(dfpq['Fecha de entrega']) \n",
    "dfpq['2da Visita']= pd.to_datetime(dfpq['2da Visita'])\n",
    "dfpq['1er Visita']= pd.to_datetime(dfpq['1er Visita'])"
   ]
  },
  {
   "cell_type": "code",
   "execution_count": 30,
   "metadata": {},
   "outputs": [],
   "source": [
    "dfpq_fl = pd.read_excel('fl_oct20.xlsx')"
   ]
  },
  {
   "cell_type": "code",
   "execution_count": 31,
   "metadata": {},
   "outputs": [],
   "source": [
    "dfpq_fl['Tipo'] = dfpq_fl['Tipo'].str.lower().str.strip().str.replace(' ', '_').str.replace('á', 'a').str.replace('é', 'e').str.replace('í', 'i').str.replace('ó', 'o').str.replace('ú', 'u')"
   ]
  },
  {
   "cell_type": "code",
   "execution_count": 32,
   "metadata": {},
   "outputs": [],
   "source": [
    "#Creo un código único para el mes\n",
    "dfpq_fl['Código Externo'] = dfpq_fl['Código Externo'] + dfpq_fl['Fecha de entrega']"
   ]
  },
  {
   "cell_type": "code",
   "execution_count": 33,
   "metadata": {},
   "outputs": [],
   "source": [
    "frames = [dfpq, dfpq_fl]\n",
    "\n",
    "dfpq = pd.concat(frames, sort=True, ignore_index=True)"
   ]
  },
  {
   "cell_type": "code",
   "execution_count": 34,
   "metadata": {},
   "outputs": [
    {
     "data": {
      "text/plain": [
       "(343006, 33)"
      ]
     },
     "execution_count": 34,
     "metadata": {},
     "output_type": "execute_result"
    }
   ],
   "source": [
    "dfpq.shape"
   ]
  },
  {
   "cell_type": "code",
   "execution_count": 35,
   "metadata": {},
   "outputs": [],
   "source": [
    "dfpq['Código Externo'] = dfpq['Código Externo'].astype(str)"
   ]
  },
  {
   "cell_type": "code",
   "execution_count": 36,
   "metadata": {},
   "outputs": [],
   "source": [
    "##Hay paquetes \"inversa\" mal cargados que trae \"PAQUERY\" como Empresa\n",
    "dfpq['Empresa'] = np.where(dfpq['Empresa'] == 'paquery', dfpq['Nombre destinatario'], dfpq['Empresa'])"
   ]
  },
  {
   "cell_type": "code",
   "execution_count": 37,
   "metadata": {},
   "outputs": [],
   "source": [
    "##Hay paquetes que tienen más de un paquete y en el código externo incluye la palabra 3 PAQUETES, 7 PAQUETES, etc. Hay que pasarlos a tamaño grande\n",
    "dfpq['Tamaño'] = np.where(dfpq['Código Externo'].str.contains('PAQUETES'), 'Grande', dfpq['Tamaño'])"
   ]
  },
  {
   "cell_type": "code",
   "execution_count": 38,
   "metadata": {},
   "outputs": [],
   "source": [
    "##Cuando se juntan df de distintos meses y hay paquetes creados el mes anterior pero entregados o con 2da visita\n",
    "##el mes siguiente se van a duplicar. Puede haber cancelados con inversa que dupliquen y hay que verlos.\n",
    "\n",
    "#Primero elimino los duplicados, cancelados que no tienen 2da visita. Los cancelados que no están duplicados (aunque no tengan)\n",
    "#segunda visita, si son transacción, los tengo que ver.\n",
    "dfpq = dfpq.loc[~((dfpq['Código Externo'].duplicated()) & (dfpq['Estado']=='Cancelado') & (dfpq['2da Visita'].isnull()))]\n",
    "\n",
    "#Depués me quedo con el más nuevo\n",
    "dfpq.drop_duplicates(subset=['Código Externo', 'Estado'], keep='last', inplace=True) \n",
    "\n",
    "##Si tengo un cancelado y un devuelto con 2da visita, pago uno sólo de esos.\n",
    "dfpq.drop_duplicates(subset=['Código Externo', '2da Visita'], keep='last', inplace=True)"
   ]
  },
  {
   "cell_type": "code",
   "execution_count": 39,
   "metadata": {},
   "outputs": [],
   "source": [
    "##Dataset de clientes mayoristas\n",
    "dfcl3 = pd.read_excel ('Clientes 3ero.xlsx')"
   ]
  },
  {
   "cell_type": "code",
   "execution_count": 40,
   "metadata": {},
   "outputs": [],
   "source": [
    "dfcl3['Clientes 3ero'] = dfcl3['Clientes 3ero'].str.lower().str.strip().str.replace(' ', '_').str.replace('á', 'a').str.replace('é', 'e').str.replace('í', 'i').str.replace('ó', 'o').str.replace('ú', 'u')\n",
    "dfcl3['Cliente_mayorista'] = dfcl3['Cliente_mayorista'].str.lower().str.strip().str.replace(' ', '_').str.replace('á', 'a').str.replace('é', 'e').str.replace('í', 'i').str.replace('ó', 'o').str.replace('ú', 'u')"
   ]
  },
  {
   "cell_type": "code",
   "execution_count": 41,
   "metadata": {},
   "outputs": [],
   "source": [
    "dfpq['Empresa'] = dfpq['Empresa'].str.lower().str.strip().str.replace(' ', '_').str.replace('á', 'a').str.replace('é', 'e').str.replace('í', 'i').str.replace('ó', 'o').str.replace('ú', 'u')"
   ]
  },
  {
   "cell_type": "code",
   "execution_count": 42,
   "metadata": {},
   "outputs": [],
   "source": [
    "dfpqcl3 = pd.merge(dfpq, dfcl3, how='left', left_on='Empresa', right_on='Clientes 3ero', sort=True)"
   ]
  },
  {
   "cell_type": "code",
   "execution_count": 43,
   "metadata": {},
   "outputs": [],
   "source": [
    "##Si son clientes de un cliente mayorista, se le factura al mayorista\n",
    "dfpqcl3['Cliente_facturacion'] = np.where(dfpqcl3['Clientes 3ero'].isnull(), dfpqcl3['Empresa'], dfpqcl3['Cliente_mayorista'])"
   ]
  },
  {
   "cell_type": "code",
   "execution_count": 44,
   "metadata": {},
   "outputs": [],
   "source": [
    "dfpqcl3.loc[dfpqcl3.Empresa == 'la_sante_(san_martin)', 'Cliente_facturacion'] = 'farmacia_la_sante'\n",
    "dfpqcl3.loc[dfpqcl3.Empresa == 'la_sante_(devoto/colegiales)', 'Cliente_facturacion'] = 'farmacia_la_sante'"
   ]
  },
  {
   "cell_type": "code",
   "execution_count": 45,
   "metadata": {},
   "outputs": [],
   "source": [
    "new = dfpqcl3['Zona'].str.split(\" - \", expand=True)\n",
    "dfpqcl3['Zona_ppal'] = new[0]\n",
    "dfpqcl3['Zona_sec'] = new[1]"
   ]
  },
  {
   "cell_type": "code",
   "execution_count": 46,
   "metadata": {},
   "outputs": [],
   "source": [
    "dfpqcl3.loc[(dfpqcl3.Zona_ppal == 'Rosario') & (dfpqcl3.Zona_sec == 'Capital'), 'Zona_ppal'] = 'Rosario Capital'"
   ]
  },
  {
   "cell_type": "code",
   "execution_count": 47,
   "metadata": {},
   "outputs": [
    {
     "data": {
      "text/plain": [
       "Index(['1er Visita', '2da Visita', 'Arribo a Paquery Point', 'Cant. de Bultos',\n",
       "       'Codigo Postal', 'Costo Estimado', 'Creación', 'Código Externo',\n",
       "       'Descripción', 'Destino Comentarios', 'Destino Dir Comentarios',\n",
       "       'Dirección Origen', 'Dirección destino', 'Empresa', 'Estado',\n",
       "       'Fecha de Ingreso a Paquery', 'Fecha de entrega', 'Fecha en Poder',\n",
       "       'Motivo 1er visita', 'Motivo 2da visita', 'Nombre Origen',\n",
       "       'Nombre Paquer', 'Nombre destinatario', 'OPL Entrega', 'OPL Paquer',\n",
       "       'Paquer', 'Paquery Point', 'Plazo', 'Rollcontainer/Posición', 'Tamaño',\n",
       "       'Tipo', 'Usuario', 'Zona', 'Clientes 3ero', 'Cliente_mayorista',\n",
       "       'Cliente_facturacion', 'Zona_ppal', 'Zona_sec'],\n",
       "      dtype='object')"
      ]
     },
     "execution_count": 47,
     "metadata": {},
     "output_type": "execute_result"
    }
   ],
   "source": [
    "dfpqcl3.columns"
   ]
  },
  {
   "cell_type": "code",
   "execution_count": 48,
   "metadata": {},
   "outputs": [],
   "source": [
    "dfpqcl3['Zona'] = dfpqcl3['Zona'].str.lower().str.strip().str.replace(' ', '_').str.replace('á', 'a').str.replace('é', 'e').str.replace('í', 'i').str.replace('ó', 'o').str.replace('ú', 'u')"
   ]
  },
  {
   "cell_type": "code",
   "execution_count": 49,
   "metadata": {},
   "outputs": [],
   "source": [
    "##Dataset de Zonas vs Ámbito geográfico\n",
    "#dfz = pd.read_excel ('Zonas_completo.xlsx', sheet_name='Zona final')\n",
    "dfz = pd.read_excel ('cod_postal_x_zona.xlsx')"
   ]
  },
  {
   "cell_type": "code",
   "execution_count": 50,
   "metadata": {},
   "outputs": [],
   "source": [
    "dfz['Zona_cod'] = dfz['Zona_cod'].str.lower().str.strip().str.replace(' ', '_').str.replace('á', 'a').str.replace('é', 'e').str.replace('í', 'i').str.replace('ó', 'o').str.replace('ú', 'u')\n",
    "dfz['ambito_geo_facturacion'] = dfz['ambito_geo_facturacion'].str.lower().str.strip().str.replace(' ', '_').str.replace('á', 'a').str.replace('é', 'e').str.replace('í', 'i').str.replace('ó', 'o').str.replace('ú', 'u')\n",
    "dfz['ambito_geo_costos'] = dfz['ambito_geo_costos'].str.lower().str.strip().str.replace(' ', '_').str.replace('á', 'a').str.replace('é', 'e').str.replace('í', 'i').str.replace('ó', 'o').str.replace('ú', 'u')"
   ]
  },
  {
   "cell_type": "code",
   "execution_count": 51,
   "metadata": {},
   "outputs": [],
   "source": [
    "##Genero df para el Codigo Postal por default, tomando la zona de entrega\n",
    "cod_default = dfpqcl3['Codigo Postal'].groupby([dfpqcl3.Zona]).agg('min').to_frame(name = 'cod_default').astype(int).reset_index()\n",
    "cod_default.rename(columns={'Zona':'Zona_cod_def'}, inplace=True)"
   ]
  },
  {
   "cell_type": "code",
   "execution_count": 52,
   "metadata": {},
   "outputs": [],
   "source": [
    "#Mergeo paquetes con el default de Codigo Postal\n",
    "dfpqcl3 = pd.merge(dfpqcl3, cod_default, how='left', left_on='Zona', right_on='Zona_cod_def', sort=True)"
   ]
  },
  {
   "cell_type": "code",
   "execution_count": 53,
   "metadata": {},
   "outputs": [],
   "source": [
    "##Completo los NA en Codigo Postal por el Codigo Default\n",
    "dfpqcl3['Codigo Postal'].fillna(dfpqcl3['cod_default'], inplace=True)\n",
    "\n",
    "##Completo los NA de Codigo Postal cuando tampoco tengo Zona, es decir no tengo Codigo Default\n",
    "dfpqcl3['Codigo Postal'].fillna(1000, inplace=True)\n",
    "dfpqcl3['Zona'].fillna('caba_sur', inplace=True)"
   ]
  },
  {
   "cell_type": "code",
   "execution_count": 54,
   "metadata": {},
   "outputs": [],
   "source": [
    "dfpqz = pd.merge(dfpqcl3, dfz, how='left', left_on='Codigo Postal', right_on='cod_postal', sort=True)"
   ]
  },
  {
   "cell_type": "code",
   "execution_count": 55,
   "metadata": {},
   "outputs": [],
   "source": [
    "dfpqp = pd.read_excel ('Zonas_pqp.xlsx')"
   ]
  },
  {
   "cell_type": "code",
   "execution_count": 56,
   "metadata": {},
   "outputs": [],
   "source": [
    "dfpqp['Zona_pqp'] = dfpqp['Zona_pqp'].str.lower().str.strip().str.replace(' ', '_').str.replace('á', 'a').str.replace('é', 'e').str.replace('í', 'i').str.replace('ó', 'o').str.replace('ú', 'u')\n",
    "dfpqp['OPL_default_pqp'] = dfpqp['OPL_default_pqp'].str.lower().str.strip().str.replace(' ', '_').str.replace('á', 'a').str.replace('é', 'e').str.replace('í', 'i').str.replace('ó', 'o').str.replace('ú', 'u')"
   ]
  },
  {
   "cell_type": "code",
   "execution_count": 57,
   "metadata": {},
   "outputs": [
    {
     "data": {
      "text/plain": [
       "array(['PaQuery Point - Zona Sur', 'PaQuery Point - CABA', nan,\n",
       "       'PaQuery Point - Zona Norte', 'PaQuery Point - Munro',\n",
       "       'PaQuery Point - Mercado Central', 'PaQuery Point - Mendoza',\n",
       "       'PaQuery Point - Encopress', 'PaQuery Point - Lion',\n",
       "       'PaQuery Point - Escobar', 'PaQuery Point InterExpress - La Plata',\n",
       "       'PaQuery Point - Andesmar', 'PaQuery Point - MDQ',\n",
       "       'PaQuery Point - Rosario', 'PaQuery Point - Cordoba',\n",
       "       'Paquery Point - Mendoza TARJETA SUBE',\n",
       "       'PaQuery Point - Mar del Plata'], dtype=object)"
      ]
     },
     "execution_count": 57,
     "metadata": {},
     "output_type": "execute_result"
    }
   ],
   "source": [
    "dfpqz['Paquery Point'].unique()"
   ]
  },
  {
   "cell_type": "code",
   "execution_count": 58,
   "metadata": {},
   "outputs": [
    {
     "data": {
      "text/plain": [
       "array(['PaQuery Point - Andesmar', 'PaQuery Point - CABA',\n",
       "       'PaQuery Point - Encopress', 'PaQuery Point - Escobar',\n",
       "       'PaQuery Point - Lion', 'PaQuery Point - MDQ',\n",
       "       'PaQuery Point - Mendoza', 'PaQuery Point - Mercado Central',\n",
       "       'PaQuery Point - Munro', 'PaQuery Point - Rosario',\n",
       "       'PaQuery Point - Zona Norte', 'PaQuery Point - Zona Sur',\n",
       "       'PaQuery Point InterExpress - La Plata', 'PaQuery Point - Cordoba',\n",
       "       'Paquery Point - Mendoza TARJETA SUBE',\n",
       "       'PaQuery Point - Mar del Plata'], dtype=object)"
      ]
     },
     "execution_count": 58,
     "metadata": {},
     "output_type": "execute_result"
    }
   ],
   "source": [
    "dfpqp['Paquery_Point'].unique()"
   ]
  },
  {
   "cell_type": "code",
   "execution_count": 59,
   "metadata": {},
   "outputs": [],
   "source": [
    "dfpqz = pd.merge(dfpqz, dfpqp, how='left', left_on='Paquery Point', right_on='Paquery_Point', sort=True)"
   ]
  },
  {
   "cell_type": "code",
   "execution_count": 60,
   "metadata": {},
   "outputs": [],
   "source": [
    "##Default de Zona del Paquery Point igual al ámbito costos, es decir Zona I \n",
    "dfpqz['Zona_pqp'].fillna(dfpqz['ambito_geo_costos'], inplace=True)\n",
    "\n",
    "##Regla de Zona para costos OPL\n",
    "dfpqz.loc[dfpqz['Zona_pqp'] == dfpqz['ambito_geo_costos'], 'Zona_clasif_OPL'] = 'Zona I'\n",
    "dfpqz.loc[dfpqz['Zona_pqp'] != dfpqz['ambito_geo_costos'], 'Zona_clasif_OPL'] = 'Zona II'"
   ]
  },
  {
   "cell_type": "code",
   "execution_count": 61,
   "metadata": {},
   "outputs": [],
   "source": [
    "##Creo df de dafault para el ambito de facturación\n",
    "##A partir del df de codigos postales\n",
    "dfz_default = dfz.drop(['cod_postal', 'ambito_geo_costos'], axis=1)\n",
    "\n",
    "##Agrupo\n",
    "dfz_default = dfz_default.groupby('Zona_cod').first().reset_index()\n",
    "\n",
    "##Cambio nombre de campos para no duplicar\n",
    "dfz_default.rename(columns={'Zona_cod': 'Zona_cod_def_ambito', 'ambito_geo_facturacion': 'ambito_geo_fact_def'}, inplace=True)"
   ]
  },
  {
   "cell_type": "code",
   "execution_count": 62,
   "metadata": {},
   "outputs": [
    {
     "data": {
      "text/plain": [
       "<bound method Series.unique of 0                   bahia_blanca\n",
       "1                     caba_norte\n",
       "2                     caba_oeste\n",
       "3                       caba_sur\n",
       "4                          chaco\n",
       "                 ...            \n",
       "58                      san_luis\n",
       "59    san_nicolas_de_los_arroyos\n",
       "60            santa_fe_-_capital\n",
       "61          santa_fe_-_esperanza\n",
       "62                       tucuman\n",
       "Name: Zona_cod_def_ambito, Length: 63, dtype: object>"
      ]
     },
     "execution_count": 62,
     "metadata": {},
     "output_type": "execute_result"
    }
   ],
   "source": [
    "dfz_default['Zona_cod_def_ambito'].unique"
   ]
  },
  {
   "cell_type": "code",
   "execution_count": 63,
   "metadata": {},
   "outputs": [],
   "source": [
    "#Mergeo paquetes con el default de Ámbito geo facturación\n",
    "dfpqz = pd.merge(dfpqz, dfz_default, how='left', left_on='Zona', right_on='Zona_cod_def_ambito', sort=True)"
   ]
  },
  {
   "cell_type": "code",
   "execution_count": 64,
   "metadata": {},
   "outputs": [],
   "source": [
    "##Completo los NA de ambito geo fact con el default creado\n",
    "dfpqz['ambito_geo_facturacion'].fillna(dfpqz['ambito_geo_fact_def'], inplace=True)\n",
    "\n",
    "##Completo NA luego de default con CABA\n",
    "dfpqz['ambito_geo_facturacion'].fillna('CABA', inplace=True)"
   ]
  },
  {
   "cell_type": "code",
   "execution_count": 65,
   "metadata": {},
   "outputs": [],
   "source": [
    "##Clientes que un OPL carga en la plataforma y opera por su cuenta\n",
    "#dfcl = pd.read_excel ('Clientes de OPLs.xlsx')\n",
    "\n",
    "##Para distinguir el uso de plataforma\n",
    "dfprop = pd.read_excel ('Propietario_cliente.xlsx')"
   ]
  },
  {
   "cell_type": "code",
   "execution_count": 66,
   "metadata": {},
   "outputs": [],
   "source": [
    "dfprop['Cliente_propietario'] = dfprop['Cliente_propietario'].str.lower().str.strip().str.replace(' ', '_').str.replace('á', 'a').str.replace('é', 'e').str.replace('í', 'i').str.replace('ó', 'o').str.replace('ú', 'u')\n",
    "dfprop['Propietario'] = dfprop['Propietario'].str.lower().str.strip().str.replace(' ', '_').str.replace('á', 'a').str.replace('é', 'e').str.replace('í', 'i').str.replace('ó', 'o').str.replace('ú', 'u')"
   ]
  },
  {
   "cell_type": "code",
   "execution_count": 67,
   "metadata": {},
   "outputs": [],
   "source": [
    "dfpqz['Cliente_facturacion'] = dfpqz['Cliente_facturacion'].str.lower().str.strip().str.replace(' ', '_').str.replace('á', 'a').str.replace('é', 'e').str.replace('í', 'i').str.replace('ó', 'o').str.replace('ú', 'u')\n",
    "dfpqz['OPL Entrega'] = dfpqz['OPL Entrega'].str.lower().str.strip().str.replace(' ', '_').str.replace('á', 'a').str.replace('é', 'e').str.replace('í', 'i').str.replace('ó', 'o').str.replace('ú', 'u')\n",
    "dfpqz['OPL Paquer'] = dfpqz['OPL Paquer'].str.lower().str.strip().str.replace(' ', '_').str.replace('á', 'a').str.replace('é', 'e').str.replace('í', 'i').str.replace('ó', 'o').str.replace('ú', 'u')"
   ]
  },
  {
   "cell_type": "code",
   "execution_count": 68,
   "metadata": {},
   "outputs": [],
   "source": [
    "dfpqprop = pd.merge(dfpqz, dfprop, how='left', left_on='Cliente_facturacion', \n",
    "                    right_on='Cliente_propietario', sort=True) ##Cambie empresa por cliente_fact !!!"
   ]
  },
  {
   "cell_type": "code",
   "execution_count": 69,
   "metadata": {},
   "outputs": [],
   "source": [
    "#Creo default de OPL Entrega como el Propietario\n",
    "dfpqprop.loc[dfpqprop['OPL Entrega'].isnull(), 'OPL Entrega'] = dfpqprop['Propietario'] ################################"
   ]
  },
  {
   "cell_type": "code",
   "execution_count": 70,
   "metadata": {},
   "outputs": [],
   "source": [
    "##Creo OPL pago para machear precio de la historia previa a la inclusion OPL Entrega\n",
    "##y los null\n",
    "dfpqprop.loc[(dfpqprop['OPL Entrega'] == 'paquery') |\n",
    "         (dfpqprop['OPL Paquer'] == 'paquery') & (dfpqprop['OPL Entrega'].isnull()) |\n",
    "         (dfpqprop['OPL Paquer'].isnull()) & (dfpqprop['OPL Entrega'].isnull()), 'OPL_pago'] = 'paquery'\n",
    "\n",
    "dfpqprop.loc[(dfpqprop['OPL Entrega'] == 'star-division'), 'OPL_pago'] = 'star-division'\n",
    "\n",
    "dfpqprop['OPL_pago'].fillna('otro', inplace=True)"
   ]
  },
  {
   "cell_type": "code",
   "execution_count": 71,
   "metadata": {},
   "outputs": [
    {
     "name": "stdout",
     "output_type": "stream",
     "text": [
      "20\n",
      "1\n"
     ]
    }
   ],
   "source": [
    "print(dfpqprop['Código Externo'].count() - len(dfpqprop['Código Externo'].unique()))\n",
    "print(dfpqprop.loc[dfpqprop['Código Externo'] == 'FF185248832048'].shape[0])"
   ]
  },
  {
   "cell_type": "code",
   "execution_count": 72,
   "metadata": {},
   "outputs": [],
   "source": [
    "##Cargo mes y año de la segunda visita en mes y año de entrega para que me tome el precio\n",
    "##cuando cruzo los df de paquetes y precios.\n",
    "#Necesito que tenga fecha para que me de precio y poder cobrar los paquetes no entregados pero con dos visitas\n",
    "dfpqprop.loc[~(dfpqprop['Fecha de entrega'].isnull()), 'fecha_fc'] = dfpqprop['Fecha de entrega']\n",
    "\n",
    "dfpqprop.loc[((dfpqprop['Fecha de entrega'].isnull()) & \n",
    "              ~(dfpqprop['2da Visita'].isnull())), 'fecha_fc'] = dfpqprop['2da Visita']\n",
    "\n",
    "#Cuando ambos son nulos (pueden ser devueltos, algun otro?)\n",
    "#En poder\n",
    "dfpqprop.loc[((dfpqprop['Fecha de entrega'].isnull()) & \n",
    "              (dfpqprop['2da Visita'].isnull())) &\n",
    "             ~(dfpqprop['Fecha en Poder'].isnull()), 'fecha_fc'] = dfpqprop['Fecha en Poder']\n",
    "\n",
    "#Arribo\n",
    "dfpqprop.loc[((dfpqprop['Fecha de entrega'].isnull()) & \n",
    "              (dfpqprop['2da Visita'].isnull())) &\n",
    "              (dfpqprop['Fecha en Poder'].isnull()) &\n",
    "             ~(dfpqprop['Arribo a Paquery Point'].isnull()), 'fecha_fc'] = dfpqprop['Arribo a Paquery Point']\n",
    "\n",
    "#Ingreso\n",
    "dfpqprop.loc[((dfpqprop['Fecha de entrega'].isnull()) & \n",
    "              (dfpqprop['2da Visita'].isnull())) &\n",
    "              (dfpqprop['Fecha en Poder'].isnull()) &\n",
    "              (dfpqprop['Arribo a Paquery Point'].isnull()) &\n",
    "             ~(dfpqprop['Fecha de Ingreso a Paquery'].isnull()), 'fecha_fc'] = dfpqprop['Fecha de Ingreso a Paquery']\n",
    "\n",
    "#Creacion\n",
    "dfpqprop.loc[(dfpqprop['Fecha de entrega'].isnull()), 'fecha_fc'] = dfpqprop['Creación']"
   ]
  },
  {
   "cell_type": "code",
   "execution_count": 73,
   "metadata": {},
   "outputs": [],
   "source": [
    "#Cargo mes y año de entrega para cruzar con matriz de precios\n",
    "dfpqprop['año_fc'] = pd.DatetimeIndex(dfpqprop['fecha_fc']).year\n",
    "dfpqprop['mes_fc'] = pd.DatetimeIndex(dfpqprop['fecha_fc']).month\n",
    "dfpqprop['dia_fc'] = pd.DatetimeIndex(dfpqprop['fecha_fc']).day"
   ]
  },
  {
   "cell_type": "code",
   "execution_count": 74,
   "metadata": {},
   "outputs": [
    {
     "data": {
      "text/plain": [
       "False    337022\n",
       "Name: mes_fc, dtype: int64"
      ]
     },
     "execution_count": 74,
     "metadata": {},
     "output_type": "execute_result"
    }
   ],
   "source": [
    "dfpqprop['mes_fc'].isnull().value_counts()"
   ]
  },
  {
   "cell_type": "code",
   "execution_count": 75,
   "metadata": {},
   "outputs": [
    {
     "data": {
      "text/plain": [
       "False    336073\n",
       "True        949\n",
       "Name: OPL Entrega, dtype: int64"
      ]
     },
     "execution_count": 75,
     "metadata": {},
     "output_type": "execute_result"
    }
   ],
   "source": [
    "dfpqprop['OPL Entrega'].isna().value_counts()"
   ]
  },
  {
   "cell_type": "code",
   "execution_count": 76,
   "metadata": {},
   "outputs": [],
   "source": [
    "##Clientes de Star-division que no tienen OPL Entrega son por default de Star-division (Transacciones)\n",
    "#dfpqprop.loc[(dfpqprop['Propietario'] == 'star-division') & (dfpqprop['OPL Entrega'].isna()), 'OPL Entrega'] = 'star-division'"
   ]
  },
  {
   "cell_type": "code",
   "execution_count": 77,
   "metadata": {},
   "outputs": [
    {
     "data": {
      "text/plain": [
       "False    14230\n",
       "Name: OPL Entrega, dtype: int64"
      ]
     },
     "execution_count": 77,
     "metadata": {},
     "output_type": "execute_result"
    }
   ],
   "source": [
    "dfpqprop.loc[(dfpqprop['Propietario'] == 'star-division')]['OPL Entrega'].isna().value_counts()"
   ]
  },
  {
   "cell_type": "code",
   "execution_count": 78,
   "metadata": {},
   "outputs": [],
   "source": [
    "dfpqprop['Linea'] = dfpqprop['OPL Entrega'] == dfpqprop['Propietario']\n",
    "dfpqprop.loc[dfpqprop.Linea == True, 'Linea'] = 'Transacción'\n",
    "dfpqprop.loc[dfpqprop.Linea == False, 'Linea'] = 'Paquetes'"
   ]
  },
  {
   "cell_type": "code",
   "execution_count": 79,
   "metadata": {},
   "outputs": [],
   "source": [
    "dfpqprop.loc[(dfpqprop.Propietario == 'paquery') & \n",
    "             (dfpqprop['OPL Entrega'] == 'paquery'), 'Linea'] = 'Paquetes'\n",
    "\n",
    "dfpqprop.loc[(dfpqprop.Tipo == 'flex'), 'Linea'] = 'Paquetes'\n",
    "\n",
    "#Los paquetes de interior de Andesmar tienen OPL Entrega Paquery pero son transacciones\n",
    "dfpqprop.loc[(dfpqprop.Propietario == 'andesmar') & \n",
    "             ((dfpqprop['Empresa'] == 'andesmar') | dfpqprop['OPL Entrega'].isnull()), 'Linea'] = 'Transacción'\n",
    "\n",
    "#Paquetes de Quilmes (Siempre en casa) que tienen empresa Siempre en casa y OPL Paquery, en realidad son de Andesmar\n",
    "dfpqprop.loc[(dfpqprop.Propietario == 'andesmar') & \n",
    "             (dfpqprop['Empresa'] == 'siempre_en_casa'), 'Linea'] = 'Transacción'\n",
    "\n",
    "dfpqprop.loc[(dfpqprop.Propietario == 'andesmar') & \n",
    "             (dfpqprop['Empresa'] == 'quilmes'), 'Linea'] = 'Transacción'\n",
    "\n",
    "#Paquetes de Sube que tienen empresa Sube y OPL Paquery, en realidad son de Andesmar\n",
    "dfpqprop.loc[(dfpqprop.Propietario == 'andesmar') & \n",
    "             (dfpqprop['Empresa'] == 'sube'), 'Linea'] = 'Transacción'\n",
    "\n",
    "dfpqprop.loc[(dfpqprop.Propietario == 'andesmar') & \n",
    "             (dfpqprop['Empresa'] == 'diario_los_andes'), 'Linea'] = 'Transacción'"
   ]
  },
  {
   "cell_type": "code",
   "execution_count": 80,
   "metadata": {},
   "outputs": [],
   "source": [
    "#Antes de octubre no se cobraban ni las transacciones canceladas ni los paquetes\n",
    "dfpqprop = dfpqprop.loc[~((dfpqprop['Estado']=='Cancelado') & dfpqprop['2da Visita'].isnull()  \n",
    "                        & (dfpqprop['mes_fc'] < 10))]\n",
    "\n",
    "#Después de octubre las transacciones canceladas se empezaron a cobrar, los paquetes no\n",
    "dfpqprop = dfpqprop.loc[~((dfpqprop['Estado']=='Cancelado') & dfpqprop['2da Visita'].isnull() \n",
    "                        & (dfpqprop['Linea']=='Paquetes') & (dfpqprop['mes_fc'] >= 10))]\n",
    "\n",
    "#~((dfpqprop['Estado']=='Devuelto') & dfpqprop['2da Visita'].isnull()) & #############HAY QUE COBRARLOS"
   ]
  },
  {
   "cell_type": "code",
   "execution_count": 81,
   "metadata": {},
   "outputs": [
    {
     "data": {
      "text/html": [
       "<div>\n",
       "<style scoped>\n",
       "    .dataframe tbody tr th:only-of-type {\n",
       "        vertical-align: middle;\n",
       "    }\n",
       "\n",
       "    .dataframe tbody tr th {\n",
       "        vertical-align: top;\n",
       "    }\n",
       "\n",
       "    .dataframe thead th {\n",
       "        text-align: right;\n",
       "    }\n",
       "</style>\n",
       "<table border=\"1\" class=\"dataframe\">\n",
       "  <thead>\n",
       "    <tr style=\"text-align: right;\">\n",
       "      <th></th>\n",
       "      <th>Estado</th>\n",
       "      <th>Creación</th>\n",
       "      <th>Fecha de Ingreso a Paquery</th>\n",
       "      <th>Arribo a Paquery Point</th>\n",
       "      <th>Fecha en Poder</th>\n",
       "    </tr>\n",
       "  </thead>\n",
       "  <tbody>\n",
       "  </tbody>\n",
       "</table>\n",
       "</div>"
      ],
      "text/plain": [
       "Empty DataFrame\n",
       "Columns: [Estado, Creación, Fecha de Ingreso a Paquery, Arribo a Paquery Point, Fecha en Poder]\n",
       "Index: []"
      ]
     },
     "execution_count": 81,
     "metadata": {},
     "output_type": "execute_result"
    }
   ],
   "source": [
    "dfpqprop[['Estado', 'Creación', 'Fecha de Ingreso a Paquery', \n",
    "          'Arribo a Paquery Point', 'Fecha en Poder']].loc[dfpqprop['mes_fc'].isnull()]"
   ]
  },
  {
   "cell_type": "code",
   "execution_count": 82,
   "metadata": {},
   "outputs": [
    {
     "data": {
      "text/plain": [
       "0"
      ]
     },
     "execution_count": 82,
     "metadata": {},
     "output_type": "execute_result"
    }
   ],
   "source": [
    "dfpqprop.loc[(dfpqprop['mes_fc'].isnull() & dfpqprop['Fecha en Poder'].isnull())].shape[0]"
   ]
  },
  {
   "cell_type": "code",
   "execution_count": 83,
   "metadata": {},
   "outputs": [
    {
     "data": {
      "text/plain": [
       "False    325199\n",
       "True        716\n",
       "Name: OPL Entrega, dtype: int64"
      ]
     },
     "execution_count": 83,
     "metadata": {},
     "output_type": "execute_result"
    }
   ],
   "source": [
    "dfpqprop['OPL Entrega'].isnull().value_counts()"
   ]
  },
  {
   "cell_type": "code",
   "execution_count": 84,
   "metadata": {},
   "outputs": [
    {
     "data": {
      "text/plain": [
       "Paquetes       266722\n",
       "Transacción     59193\n",
       "Name: Linea, dtype: int64"
      ]
     },
     "execution_count": 84,
     "metadata": {},
     "output_type": "execute_result"
    }
   ],
   "source": [
    "dfpqprop['Linea'].value_counts()"
   ]
  },
  {
   "cell_type": "code",
   "execution_count": 85,
   "metadata": {},
   "outputs": [],
   "source": [
    "##Calculo la cantidad de paquetes para el uso de plataforma\n",
    "tblxprop = dfpqprop['Linea'].loc[dfpqprop.Linea == 'Transacción'].groupby([dfpqprop.año_fc, dfpqprop.mes_fc, \n",
    "                                               dfpqprop.Propietario]).agg('count').to_frame(name = 'Pq x prop').reset_index()"
   ]
  },
  {
   "cell_type": "code",
   "execution_count": 86,
   "metadata": {},
   "outputs": [
    {
     "data": {
      "text/html": [
       "<div>\n",
       "<style scoped>\n",
       "    .dataframe tbody tr th:only-of-type {\n",
       "        vertical-align: middle;\n",
       "    }\n",
       "\n",
       "    .dataframe tbody tr th {\n",
       "        vertical-align: top;\n",
       "    }\n",
       "\n",
       "    .dataframe thead th {\n",
       "        text-align: right;\n",
       "    }\n",
       "</style>\n",
       "<table border=\"1\" class=\"dataframe\">\n",
       "  <thead>\n",
       "    <tr style=\"text-align: right;\">\n",
       "      <th></th>\n",
       "      <th>año_fc</th>\n",
       "      <th>mes_fc</th>\n",
       "      <th>Propietario</th>\n",
       "      <th>Pq x prop</th>\n",
       "    </tr>\n",
       "  </thead>\n",
       "  <tbody>\n",
       "    <tr>\n",
       "      <td>0</td>\n",
       "      <td>2020</td>\n",
       "      <td>4</td>\n",
       "      <td>andesmar</td>\n",
       "      <td>416</td>\n",
       "    </tr>\n",
       "    <tr>\n",
       "      <td>1</td>\n",
       "      <td>2020</td>\n",
       "      <td>5</td>\n",
       "      <td>andesmar</td>\n",
       "      <td>1355</td>\n",
       "    </tr>\n",
       "    <tr>\n",
       "      <td>2</td>\n",
       "      <td>2020</td>\n",
       "      <td>5</td>\n",
       "      <td>encopress</td>\n",
       "      <td>148</td>\n",
       "    </tr>\n",
       "    <tr>\n",
       "      <td>3</td>\n",
       "      <td>2020</td>\n",
       "      <td>5</td>\n",
       "      <td>star-division</td>\n",
       "      <td>510</td>\n",
       "    </tr>\n",
       "    <tr>\n",
       "      <td>4</td>\n",
       "      <td>2020</td>\n",
       "      <td>6</td>\n",
       "      <td>andesmar</td>\n",
       "      <td>3458</td>\n",
       "    </tr>\n",
       "    <tr>\n",
       "      <td>5</td>\n",
       "      <td>2020</td>\n",
       "      <td>6</td>\n",
       "      <td>encopress</td>\n",
       "      <td>634</td>\n",
       "    </tr>\n",
       "    <tr>\n",
       "      <td>6</td>\n",
       "      <td>2020</td>\n",
       "      <td>6</td>\n",
       "      <td>star-division</td>\n",
       "      <td>1283</td>\n",
       "    </tr>\n",
       "    <tr>\n",
       "      <td>7</td>\n",
       "      <td>2020</td>\n",
       "      <td>7</td>\n",
       "      <td>andesmar</td>\n",
       "      <td>7202</td>\n",
       "    </tr>\n",
       "    <tr>\n",
       "      <td>8</td>\n",
       "      <td>2020</td>\n",
       "      <td>7</td>\n",
       "      <td>encopress</td>\n",
       "      <td>6</td>\n",
       "    </tr>\n",
       "    <tr>\n",
       "      <td>9</td>\n",
       "      <td>2020</td>\n",
       "      <td>7</td>\n",
       "      <td>star-division</td>\n",
       "      <td>1784</td>\n",
       "    </tr>\n",
       "    <tr>\n",
       "      <td>10</td>\n",
       "      <td>2020</td>\n",
       "      <td>8</td>\n",
       "      <td>andesmar</td>\n",
       "      <td>8918</td>\n",
       "    </tr>\n",
       "    <tr>\n",
       "      <td>11</td>\n",
       "      <td>2020</td>\n",
       "      <td>8</td>\n",
       "      <td>star-division</td>\n",
       "      <td>1647</td>\n",
       "    </tr>\n",
       "    <tr>\n",
       "      <td>12</td>\n",
       "      <td>2020</td>\n",
       "      <td>9</td>\n",
       "      <td>andesmar</td>\n",
       "      <td>9131</td>\n",
       "    </tr>\n",
       "    <tr>\n",
       "      <td>13</td>\n",
       "      <td>2020</td>\n",
       "      <td>9</td>\n",
       "      <td>dac_servicios_logisticos</td>\n",
       "      <td>10</td>\n",
       "    </tr>\n",
       "    <tr>\n",
       "      <td>14</td>\n",
       "      <td>2020</td>\n",
       "      <td>9</td>\n",
       "      <td>star-division</td>\n",
       "      <td>2422</td>\n",
       "    </tr>\n",
       "    <tr>\n",
       "      <td>15</td>\n",
       "      <td>2020</td>\n",
       "      <td>10</td>\n",
       "      <td>andesmar</td>\n",
       "      <td>15179</td>\n",
       "    </tr>\n",
       "    <tr>\n",
       "      <td>16</td>\n",
       "      <td>2020</td>\n",
       "      <td>10</td>\n",
       "      <td>dac_servicios_logisticos</td>\n",
       "      <td>29</td>\n",
       "    </tr>\n",
       "    <tr>\n",
       "      <td>17</td>\n",
       "      <td>2020</td>\n",
       "      <td>10</td>\n",
       "      <td>star-division</td>\n",
       "      <td>5061</td>\n",
       "    </tr>\n",
       "  </tbody>\n",
       "</table>\n",
       "</div>"
      ],
      "text/plain": [
       "    año_fc  mes_fc               Propietario  Pq x prop\n",
       "0     2020       4                  andesmar        416\n",
       "1     2020       5                  andesmar       1355\n",
       "2     2020       5                 encopress        148\n",
       "3     2020       5             star-division        510\n",
       "4     2020       6                  andesmar       3458\n",
       "5     2020       6                 encopress        634\n",
       "6     2020       6             star-division       1283\n",
       "7     2020       7                  andesmar       7202\n",
       "8     2020       7                 encopress          6\n",
       "9     2020       7             star-division       1784\n",
       "10    2020       8                  andesmar       8918\n",
       "11    2020       8             star-division       1647\n",
       "12    2020       9                  andesmar       9131\n",
       "13    2020       9  dac_servicios_logisticos         10\n",
       "14    2020       9             star-division       2422\n",
       "15    2020      10                  andesmar      15179\n",
       "16    2020      10  dac_servicios_logisticos         29\n",
       "17    2020      10             star-division       5061"
      ]
     },
     "execution_count": 86,
     "metadata": {},
     "output_type": "execute_result"
    }
   ],
   "source": [
    "tblxprop"
   ]
  },
  {
   "cell_type": "code",
   "execution_count": 87,
   "metadata": {},
   "outputs": [],
   "source": [
    "tblxprop['Linea_pl'] = 'Transacción'"
   ]
  },
  {
   "cell_type": "code",
   "execution_count": 88,
   "metadata": {},
   "outputs": [],
   "source": [
    "\n",
    "dfpqprop = pd.merge(dfpqprop, tblxprop, how='left',\n",
    "                     left_on=['año_fc', 'mes_fc', 'Propietario', 'Linea'], \n",
    "                     right_on=['año_fc', 'mes_fc', 'Propietario', 'Linea_pl'], sort=True)"
   ]
  },
  {
   "cell_type": "code",
   "execution_count": 89,
   "metadata": {},
   "outputs": [],
   "source": [
    "##Para distinguir el uso de plataforma\n",
    "dfpxpl = pd.read_excel ('Px pl 290920.xlsx')\n",
    "\n",
    "dfpxpl = pd.melt(dfpxpl, id_vars=['Propietario',\n",
    "                                 'Rango',\n",
    "                                  'Año'],\n",
    "        var_name='Mes',\n",
    "        value_name='Precio_pl')"
   ]
  },
  {
   "cell_type": "code",
   "execution_count": 90,
   "metadata": {},
   "outputs": [],
   "source": [
    "dfpxpl['Propietario'] = dfpxpl['Propietario'].str.lower().str.strip().str.replace(' ', '_').str.replace('á', 'a').str.replace('é', 'e').str.replace('í', 'i').str.replace('ó', 'o').str.replace('ú', 'u')"
   ]
  },
  {
   "cell_type": "code",
   "execution_count": 91,
   "metadata": {},
   "outputs": [],
   "source": [
    "dfpxpl.dropna(subset=['Precio_pl'], inplace=True)"
   ]
  },
  {
   "cell_type": "code",
   "execution_count": 92,
   "metadata": {},
   "outputs": [
    {
     "data": {
      "text/html": [
       "<div>\n",
       "<style scoped>\n",
       "    .dataframe tbody tr th:only-of-type {\n",
       "        vertical-align: middle;\n",
       "    }\n",
       "\n",
       "    .dataframe tbody tr th {\n",
       "        vertical-align: top;\n",
       "    }\n",
       "\n",
       "    .dataframe thead th {\n",
       "        text-align: right;\n",
       "    }\n",
       "</style>\n",
       "<table border=\"1\" class=\"dataframe\">\n",
       "  <thead>\n",
       "    <tr style=\"text-align: right;\">\n",
       "      <th></th>\n",
       "      <th>Propietario</th>\n",
       "      <th>Rango</th>\n",
       "      <th>Año</th>\n",
       "      <th>Mes</th>\n",
       "      <th>Precio_pl</th>\n",
       "    </tr>\n",
       "  </thead>\n",
       "  <tbody>\n",
       "    <tr>\n",
       "      <td>100</td>\n",
       "      <td>star-division</td>\n",
       "      <td>1000</td>\n",
       "      <td>2020</td>\n",
       "      <td>5</td>\n",
       "      <td>12.5</td>\n",
       "    </tr>\n",
       "    <tr>\n",
       "      <td>101</td>\n",
       "      <td>star-division</td>\n",
       "      <td>2000</td>\n",
       "      <td>2020</td>\n",
       "      <td>5</td>\n",
       "      <td>11.6</td>\n",
       "    </tr>\n",
       "    <tr>\n",
       "      <td>102</td>\n",
       "      <td>star-division</td>\n",
       "      <td>3000</td>\n",
       "      <td>2020</td>\n",
       "      <td>5</td>\n",
       "      <td>10.6</td>\n",
       "    </tr>\n",
       "    <tr>\n",
       "      <td>103</td>\n",
       "      <td>star-division</td>\n",
       "      <td>5000</td>\n",
       "      <td>2020</td>\n",
       "      <td>5</td>\n",
       "      <td>9.6</td>\n",
       "    </tr>\n",
       "    <tr>\n",
       "      <td>104</td>\n",
       "      <td>star-division</td>\n",
       "      <td>5001</td>\n",
       "      <td>2020</td>\n",
       "      <td>5</td>\n",
       "      <td>9.0</td>\n",
       "    </tr>\n",
       "  </tbody>\n",
       "</table>\n",
       "</div>"
      ],
      "text/plain": [
       "       Propietario  Rango   Año Mes  Precio_pl\n",
       "100  star-division   1000  2020   5       12.5\n",
       "101  star-division   2000  2020   5       11.6\n",
       "102  star-division   3000  2020   5       10.6\n",
       "103  star-division   5000  2020   5        9.6\n",
       "104  star-division   5001  2020   5        9.0"
      ]
     },
     "execution_count": 92,
     "metadata": {},
     "output_type": "execute_result"
    }
   ],
   "source": [
    "dfpxpl.head()"
   ]
  },
  {
   "cell_type": "code",
   "execution_count": 93,
   "metadata": {},
   "outputs": [],
   "source": [
    "##Genero el rango de paquetes para uso de plataforma en el df paquetes\n",
    "dfpqprop['Rango_pq'] = dfpqprop['Pq x prop']/1000 ##Divido por 1000 para redondear la unidad\n",
    "dfpqprop['Rango_pq'] = dfpqprop['Rango_pq'].apply(np.ceil)*1000 ##Round up (ceil)\n",
    "dfpqprop.loc[(dfpqprop.Rango_pq > 3000) & (dfpqprop.Rango_pq < 5000), 'Rango_pq'] = 5000\n",
    "dfpqprop.loc[dfpqprop.Rango_pq > 5000, 'Rango_pq'] = 5001"
   ]
  },
  {
   "cell_type": "code",
   "execution_count": 94,
   "metadata": {},
   "outputs": [
    {
     "data": {
      "text/plain": [
       "Linea        Propietario               año_fc  mes_fc  Rango_pq\n",
       "Transacción  andesmar                  2020    4       1000.0        416\n",
       "                                               5       2000.0       1355\n",
       "                                               6       5000.0       3458\n",
       "                                               7       5001.0       7202\n",
       "                                               8       5001.0       8918\n",
       "                                               9       5001.0       9131\n",
       "                                               10      5001.0      15179\n",
       "             dac_servicios_logisticos  2020    9       1000.0         10\n",
       "                                               10      1000.0         29\n",
       "             encopress                 2020    5       1000.0        148\n",
       "                                               6       1000.0        634\n",
       "                                               7       1000.0          6\n",
       "             star-division             2020    5       1000.0        510\n",
       "                                               6       2000.0       1283\n",
       "                                               7       2000.0       1784\n",
       "                                               8       2000.0       1647\n",
       "                                               9       3000.0       2422\n",
       "                                               10      5001.0       5061\n",
       "Name: Código Externo, dtype: int64"
      ]
     },
     "execution_count": 94,
     "metadata": {},
     "output_type": "execute_result"
    }
   ],
   "source": [
    "dfpqprop['Código Externo'].loc[dfpqprop.Linea == 'Transacción'].groupby([dfpqprop.Linea, \n",
    "                                                                         dfpqprop.Propietario, \n",
    "                                                                         dfpqprop.año_fc, \n",
    "                                                                         dfpqprop.mes_fc , \n",
    "                                                                         dfpqprop.Rango_pq]).agg('count')"
   ]
  },
  {
   "cell_type": "code",
   "execution_count": 95,
   "metadata": {},
   "outputs": [],
   "source": [
    "dfpxpl['Mes'] = dfpxpl['Mes'].astype(float)\n",
    "dfpxpl['Año'] = dfpxpl['Año'].astype(float)"
   ]
  },
  {
   "cell_type": "code",
   "execution_count": 96,
   "metadata": {},
   "outputs": [],
   "source": [
    "##Cruzo el dataset de precios de plataforma según rango de Q paquetes\n",
    "dfpqpxpl = pd.merge(dfpqprop, dfpxpl, how='left',\n",
    "                     left_on=['año_fc', 'mes_fc', 'Propietario', 'Rango_pq'], \n",
    "                     right_on=['Año', 'Mes', 'Propietario', 'Rango'], sort=True)"
   ]
  },
  {
   "cell_type": "code",
   "execution_count": 97,
   "metadata": {},
   "outputs": [],
   "source": [
    "dfpqpxpl.drop(['Año'], axis=1, inplace=True)\n",
    "dfpqpxpl.drop(['Mes'], axis=1, inplace=True)"
   ]
  },
  {
   "cell_type": "code",
   "execution_count": 98,
   "metadata": {},
   "outputs": [
    {
     "data": {
      "text/plain": [
       "Cant. de Bultos\n",
       "1.0     425\n",
       "2.0     600\n",
       "3.0     362\n",
       "4.0      91\n",
       "5.0      31\n",
       "6.0       9\n",
       "7.0       4\n",
       "8.0       3\n",
       "9.0       1\n",
       "10.0      2\n",
       "11.0      1\n",
       "15.0      1\n",
       "19.0      1\n",
       "Name: Código Externo, dtype: int64"
      ]
     },
     "execution_count": 98,
     "metadata": {},
     "output_type": "execute_result"
    }
   ],
   "source": [
    "##Check group by\n",
    "dfpqpxpl['Código Externo'].loc[dfpqpxpl.Empresa == 'unilever_mutual'].groupby(dfpqpxpl['Cant. de Bultos']).agg('count')"
   ]
  },
  {
   "cell_type": "code",
   "execution_count": 99,
   "metadata": {},
   "outputs": [],
   "source": [
    "##\n",
    "dfpqpxpl['Cant. de Bultos'].fillna(0, inplace=True)\n",
    "dfpqpxpl['Cant. de Bultos'] = dfpqpxpl['Cant. de Bultos'].astype(int)"
   ]
  },
  {
   "cell_type": "code",
   "execution_count": 100,
   "metadata": {},
   "outputs": [],
   "source": [
    "##Corrijo los tamaños de los paquetes según arreglo por cantidad de bultos\n",
    "dfpqpxpl.loc[((dfpqpxpl.Empresa == 'unilever_mutual') & \n",
    "             ((dfpqpxpl['Cant. de Bultos'] == 1) | (dfpqpxpl['Cant. de Bultos'] == 2))), 'Tamaño'] = 'Chico'\n",
    "\n",
    "dfpqpxpl.loc[((dfpqpxpl.Empresa == 'unilever_mutual') & \n",
    "              (dfpqpxpl['Cant. de Bultos'] > 2)), 'Tamaño'] = 'Mediano'\n",
    "\n",
    "#Precio adicional (creo campo) por excedente de paquetes por sobre 6\n",
    "dfpqpxpl.loc[((dfpqpxpl.Empresa == 'unilever_mutual') & \n",
    "              (dfpqpxpl['Cant. de Bultos'] > 6)), 'precio_adicional'] = 71 * (dfpqpxpl['Cant. de Bultos'] - 6)\n",
    "\n",
    "#Default para historial sin Cantidad de bultos\n",
    "dfpqpxpl.loc[((dfpqpxpl.Empresa == 'unilever_mutual') & (dfpqpxpl['Cant. de Bultos'] == 0)), 'Tamaño'] = 'Mediano'"
   ]
  },
  {
   "cell_type": "code",
   "execution_count": 101,
   "metadata": {},
   "outputs": [],
   "source": [
    "##Corrijo los tamaños de los paquetes según arreglo por cantidad de bultos\n",
    "dfpqpxpl.loc[((dfpqpxpl.Empresa == 'club_de_beneficios') & \n",
    "             ((dfpqpxpl['Cant. de Bultos'] == 1) | (dfpqpxpl['Cant. de Bultos'] == 2))), 'Tamaño'] = 'Chico'\n",
    "\n",
    "dfpqpxpl.loc[((dfpqpxpl.Empresa == 'club_de_beneficios') & \n",
    "              (dfpqpxpl['Cant. de Bultos'] > 2)), 'Tamaño'] = 'Mediano'\n",
    "\n",
    "#Precio adicional (creo campo) por excedente de paquetes por sobre 6\n",
    "dfpqpxpl.loc[((dfpqpxpl.Empresa == 'club_de_beneficios') & \n",
    "              (dfpqpxpl['Cant. de Bultos'] > 6)), 'precio_adicional'] = 71 * (dfpqpxpl['Cant. de Bultos'] - 6)\n",
    "\n",
    "dfpqpxpl['precio_adicional'].fillna(0, inplace=True)\n",
    "\n",
    "#Default para historial sin Cantidad de bultos\n",
    "dfpqpxpl.loc[((dfpqpxpl.Empresa == 'club_de_beneficios') & (dfpqpxpl['Cant. de Bultos'] == 0)), 'Tamaño'] = 'Mediano'"
   ]
  },
  {
   "cell_type": "code",
   "execution_count": 102,
   "metadata": {},
   "outputs": [],
   "source": [
    "#Hay paquetes cargados como Store y son Enviar\n",
    "dfpqpxpl.loc[((dfpqpxpl.Empresa == 'club_de_beneficios') & (dfpqpxpl['Tipo'] == 'store_withdrawal')), 'Tipo'] = 'enviar'"
   ]
  },
  {
   "cell_type": "code",
   "execution_count": 103,
   "metadata": {},
   "outputs": [
    {
     "data": {
      "text/plain": [
       "Cant. de Bultos\n",
       "0      29\n",
       "1     425\n",
       "2     600\n",
       "3     362\n",
       "4      91\n",
       "5      31\n",
       "6       9\n",
       "7       4\n",
       "8       3\n",
       "9       1\n",
       "10      2\n",
       "11      1\n",
       "15      1\n",
       "19      1\n",
       "Name: Código Externo, dtype: int64"
      ]
     },
     "execution_count": 103,
     "metadata": {},
     "output_type": "execute_result"
    }
   ],
   "source": [
    "##Check group by\n",
    "dfpqpxpl['Código Externo'].loc[dfpqpxpl.Empresa == 'unilever_mutual'].groupby(dfpqpxpl['Cant. de Bultos']).agg('count')"
   ]
  },
  {
   "cell_type": "code",
   "execution_count": 104,
   "metadata": {},
   "outputs": [
    {
     "name": "stdout",
     "output_type": "stream",
     "text": [
      "7\n",
      "1\n"
     ]
    }
   ],
   "source": [
    "print(dfpqpxpl['Código Externo'].count() - len(dfpqpxpl['Código Externo'].unique()))\n",
    "print(dfpqpxpl.loc[dfpqpxpl['Código Externo'] == 'FF185248832048'].shape[0])"
   ]
  },
  {
   "cell_type": "code",
   "execution_count": 105,
   "metadata": {},
   "outputs": [],
   "source": [
    "dfpx.drop_duplicates(inplace=True)"
   ]
  },
  {
   "cell_type": "code",
   "execution_count": 106,
   "metadata": {},
   "outputs": [
    {
     "data": {
      "text/plain": [
       "6488"
      ]
     },
     "execution_count": 106,
     "metadata": {},
     "output_type": "execute_result"
    }
   ],
   "source": [
    "##Para check cambio de precio\n",
    "dfpqpxpl.loc[((dfpqpxpl['Cliente_facturacion']=='enviopack') & \n",
    "             (dfpqpxpl['mes_fc']==10))].shape[0] ###############"
   ]
  },
  {
   "cell_type": "code",
   "execution_count": 107,
   "metadata": {},
   "outputs": [],
   "source": [
    "dfpqpxpl.loc[((dfpqpxpl['Cliente_facturacion']=='enviopack') & \n",
    "             (dfpqpxpl['año_fc']==2020) &\n",
    "             (dfpqpxpl['mes_fc']==10) & \n",
    "             (dfpqpxpl['dia_fc']<13)), 'mes_fc'] = 9"
   ]
  },
  {
   "cell_type": "code",
   "execution_count": 108,
   "metadata": {},
   "outputs": [
    {
     "data": {
      "text/plain": [
       "3855"
      ]
     },
     "execution_count": 108,
     "metadata": {},
     "output_type": "execute_result"
    }
   ],
   "source": [
    "dfpqpxpl.loc[((dfpqpxpl['Cliente_facturacion']=='enviopack') & \n",
    "             (dfpqpxpl['mes_fc']==10))].shape[0] ###############"
   ]
  },
  {
   "cell_type": "code",
   "execution_count": 109,
   "metadata": {},
   "outputs": [
    {
     "data": {
      "text/plain": [
       "True     322255\n",
       "False      3660\n",
       "dtype: int64"
      ]
     },
     "execution_count": 109,
     "metadata": {},
     "output_type": "execute_result"
    }
   ],
   "source": [
    "dfpqpxpl[['año_fc', 'mes_fc', 'Tamaño', 'Plazo', 'ambito_geo_facturacion',\n",
    "                              'Cliente_facturacion', 'Tipo', 'Linea']].duplicated().value_counts()"
   ]
  },
  {
   "cell_type": "code",
   "execution_count": 110,
   "metadata": {},
   "outputs": [
    {
     "data": {
      "text/plain": [
       "array(['enviar', 'store_withdrawal', 'flex'], dtype=object)"
      ]
     },
     "execution_count": 110,
     "metadata": {},
     "output_type": "execute_result"
    }
   ],
   "source": [
    "dfpqpxpl['Tipo'].unique()"
   ]
  },
  {
   "cell_type": "code",
   "execution_count": 111,
   "metadata": {},
   "outputs": [
    {
     "data": {
      "text/plain": [
       "array(['flex', 'enviar', 'store_withdrawal', nan], dtype=object)"
      ]
     },
     "execution_count": 111,
     "metadata": {},
     "output_type": "execute_result"
    }
   ],
   "source": [
    "dfpx['Tipo_app_px'].unique()"
   ]
  },
  {
   "cell_type": "code",
   "execution_count": 112,
   "metadata": {},
   "outputs": [],
   "source": [
    "##Cruzo con dataset precios paquetes\n",
    "dfpqpx = pd.merge(dfpqpxpl, dfpx, how='left',\n",
    "                     left_on=['año_fc', 'mes_fc', 'Tamaño', 'Plazo', 'ambito_geo_facturacion',\n",
    "                              'Cliente_facturacion', 'Tipo', 'Linea'], \n",
    "                     right_on=['Año', 'Mes', 'Tamaño', 'Plazo', 'Ámbito Geográfico',\n",
    "                               'Cliente', 'Tipo_app_px', 'Linea_px'], sort=True)"
   ]
  },
  {
   "cell_type": "code",
   "execution_count": 113,
   "metadata": {},
   "outputs": [],
   "source": [
    "#Revierto el mes en los días de cambio de precio\n",
    "#No es necesario indicar cliente, año, etc ... podría sólo corregir el mes de todos !!!!\n",
    "dfpqpx.loc[((dfpqpx['Cliente_facturacion']=='enviopack') &\n",
    "            (dfpqpxpl['año_fc']==2020) &\n",
    "            (dfpqpx['mes_fc']==9) &\n",
    "            (pd.DatetimeIndex(dfpqpx['fecha_fc']).month==10)), 'mes_fc'] = 10"
   ]
  },
  {
   "cell_type": "code",
   "execution_count": 114,
   "metadata": {},
   "outputs": [
    {
     "data": {
      "text/plain": [
       "6488"
      ]
     },
     "execution_count": 114,
     "metadata": {},
     "output_type": "execute_result"
    }
   ],
   "source": [
    "#Check reversion\n",
    "dfpqpx.loc[((dfpqpx['Cliente_facturacion']=='enviopack') & \n",
    "             (dfpqpx['mes_fc']==10))].shape[0] ###############"
   ]
  },
  {
   "cell_type": "code",
   "execution_count": 115,
   "metadata": {},
   "outputs": [
    {
     "name": "stdout",
     "output_type": "stream",
     "text": [
      "1876\n",
      "1\n"
     ]
    }
   ],
   "source": [
    "print(dfpqpx['Código Externo'].count() - len(dfpqpx['Código Externo'].unique()))\n",
    "print(dfpqpx.loc[dfpqpx['Código Externo'] == 'FF185248832048'].shape[0])"
   ]
  },
  {
   "cell_type": "code",
   "execution_count": 116,
   "metadata": {},
   "outputs": [],
   "source": [
    "dfcl = pd.read_excel ('Costo.xlsx')"
   ]
  },
  {
   "cell_type": "code",
   "execution_count": 117,
   "metadata": {},
   "outputs": [
    {
     "data": {
      "text/html": [
       "<div>\n",
       "<style scoped>\n",
       "    .dataframe tbody tr th:only-of-type {\n",
       "        vertical-align: middle;\n",
       "    }\n",
       "\n",
       "    .dataframe tbody tr th {\n",
       "        vertical-align: top;\n",
       "    }\n",
       "\n",
       "    .dataframe thead th {\n",
       "        text-align: right;\n",
       "    }\n",
       "</style>\n",
       "<table border=\"1\" class=\"dataframe\">\n",
       "  <thead>\n",
       "    <tr style=\"text-align: right;\">\n",
       "      <th></th>\n",
       "      <th>Plazo_pago</th>\n",
       "      <th>Tamaño_pago</th>\n",
       "      <th>OPL_pago</th>\n",
       "      <th>Zona_costo</th>\n",
       "      <th>Costo</th>\n",
       "    </tr>\n",
       "  </thead>\n",
       "  <tbody>\n",
       "    <tr>\n",
       "      <td>0</td>\n",
       "      <td>Dia siguiente</td>\n",
       "      <td>Chico</td>\n",
       "      <td>PaQuery</td>\n",
       "      <td>Zona I</td>\n",
       "      <td>72.0</td>\n",
       "    </tr>\n",
       "    <tr>\n",
       "      <td>1</td>\n",
       "      <td>Dia siguiente</td>\n",
       "      <td>Grande</td>\n",
       "      <td>PaQuery</td>\n",
       "      <td>Zona I</td>\n",
       "      <td>122.2</td>\n",
       "    </tr>\n",
       "    <tr>\n",
       "      <td>2</td>\n",
       "      <td>Dia siguiente</td>\n",
       "      <td>Mediano</td>\n",
       "      <td>PaQuery</td>\n",
       "      <td>Zona I</td>\n",
       "      <td>94.0</td>\n",
       "    </tr>\n",
       "    <tr>\n",
       "      <td>3</td>\n",
       "      <td>Mismo dia</td>\n",
       "      <td>Chico</td>\n",
       "      <td>PaQuery</td>\n",
       "      <td>Zona I</td>\n",
       "      <td>120.0</td>\n",
       "    </tr>\n",
       "    <tr>\n",
       "      <td>4</td>\n",
       "      <td>Mismo dia</td>\n",
       "      <td>Grande</td>\n",
       "      <td>PaQuery</td>\n",
       "      <td>Zona I</td>\n",
       "      <td>202.8</td>\n",
       "    </tr>\n",
       "  </tbody>\n",
       "</table>\n",
       "</div>"
      ],
      "text/plain": [
       "      Plazo_pago Tamaño_pago OPL_pago Zona_costo  Costo\n",
       "0  Dia siguiente       Chico  PaQuery     Zona I   72.0\n",
       "1  Dia siguiente      Grande  PaQuery     Zona I  122.2\n",
       "2  Dia siguiente     Mediano  PaQuery     Zona I   94.0\n",
       "3      Mismo dia       Chico  PaQuery     Zona I  120.0\n",
       "4      Mismo dia      Grande  PaQuery     Zona I  202.8"
      ]
     },
     "execution_count": 117,
     "metadata": {},
     "output_type": "execute_result"
    }
   ],
   "source": [
    "dfcl.head()"
   ]
  },
  {
   "cell_type": "code",
   "execution_count": 118,
   "metadata": {},
   "outputs": [],
   "source": [
    "dfcl['OPL_pago'] = dfcl['OPL_pago'].str.lower().str.strip().str.replace(' ', '_').str.replace('á', 'a').str.replace('é', 'e').str.replace('í', 'i').str.replace('ó', 'o').str.replace('ú', 'u')"
   ]
  },
  {
   "cell_type": "code",
   "execution_count": 119,
   "metadata": {},
   "outputs": [],
   "source": [
    "cp = pd.read_csv('AR.csv', sep=\";\", encoding=\"latin1\")"
   ]
  },
  {
   "cell_type": "code",
   "execution_count": 120,
   "metadata": {},
   "outputs": [],
   "source": [
    "##Los paquers propios y de DAC no tienen cambio de zona, con algunas excepciones\n",
    "dfpqpx.loc[((~dfpqpx['Nombre Paquer'].isin(['Cristian Gaston Orieta',\n",
    "                                           'Enzo Polles',\n",
    "                                           'Fernando Antonio Marin Boccone',\n",
    "                                           'GL56 - Marcos Torres',\n",
    "                                           'GL56 Miriam Veronica Frappa',\n",
    "                                           'Javier Luis Cabrera',\n",
    "                                           'JONATAN FERNANDO ORIETA','Luis Eleuterio Orieta'])) \n",
    "            & (dfpqpx['OPL Paquer'] == 'paquery') | (dfpqpx['OPL Paquer'] == 'dac_servicios_logisticos')), \n",
    "           'Zona_clasif_OPL'] = 'Zona I'\n",
    "\n",
    "###CAMBIO A MINUSCULAS, ETC"
   ]
  },
  {
   "cell_type": "code",
   "execution_count": 121,
   "metadata": {},
   "outputs": [
    {
     "data": {
      "text/plain": [
       "array(['paquery', 'otro', 'star-division'], dtype=object)"
      ]
     },
     "execution_count": 121,
     "metadata": {},
     "output_type": "execute_result"
    }
   ],
   "source": [
    "dfpqpx['OPL_pago'].unique()"
   ]
  },
  {
   "cell_type": "code",
   "execution_count": 122,
   "metadata": {},
   "outputs": [],
   "source": [
    "dfpqproppxcl = pd.merge(dfpqpx, dfcl, how='left',\n",
    "                       left_on=['Zona_clasif_OPL', 'Tamaño', 'Plazo', 'OPL_pago'],\n",
    "                       right_on=['Zona_costo', 'Tamaño_pago', 'Plazo_pago', 'OPL_pago'], sort=True)"
   ]
  },
  {
   "cell_type": "code",
   "execution_count": 123,
   "metadata": {},
   "outputs": [],
   "source": [
    "##Las transacciones no tienen costo para Paquery\n",
    "dfpqproppxcl.loc[dfpqproppxcl.Linea == 'Transacción', 'Costo'] = 0\n",
    "\n",
    "##Los paquery points que no opera PaQuery no tienen costo de paquers,\n",
    "##le pagan los OPLs que lo operan (hay que corregir esto, hoy se identifican por zonas)\n",
    "dfpqproppxcl.loc[((~dfpqproppxcl['ambito_geo_costos'].isin(['caba',\n",
    "                                           'norte',\n",
    "                                           'sur',\n",
    "                                           'oeste',\n",
    "                                           'la_plata',\n",
    "                                           'campana',\n",
    "                                           'lujan', 'mar_del_plata'])) \n",
    "            & (dfpqproppxcl['OPL Paquer'] == 'paquery') & (dfpqproppxcl['OPL Entrega'] == 'paquery')), \n",
    "           'Costo'] = 0"
   ]
  },
  {
   "cell_type": "code",
   "execution_count": 124,
   "metadata": {},
   "outputs": [],
   "source": [
    "dfpqproppxcl['Precio'].fillna(0, inplace=True)\n",
    "dfpqproppxcl['Precio_pl'].fillna(0, inplace=True)\n",
    "dfpqproppxcl['Propietario'].fillna('paquery', inplace=True) ##El propietario de los clientes de envioPack xej son de PaQuery"
   ]
  },
  {
   "cell_type": "code",
   "execution_count": 125,
   "metadata": {},
   "outputs": [
    {
     "name": "stdout",
     "output_type": "stream",
     "text": [
      "1876\n",
      "1\n"
     ]
    }
   ],
   "source": [
    "print(dfpqproppxcl['Código Externo'].count() - len(dfpqproppxcl['Código Externo'].unique()))\n",
    "print(dfpqproppxcl.loc[dfpqproppxcl['Código Externo'] == 'FF185248832048'].shape[0])"
   ]
  },
  {
   "cell_type": "code",
   "execution_count": 126,
   "metadata": {},
   "outputs": [],
   "source": [
    "dfst = pd.read_excel ('px_star.xlsx')"
   ]
  },
  {
   "cell_type": "code",
   "execution_count": 127,
   "metadata": {},
   "outputs": [
    {
     "data": {
      "text/html": [
       "<div>\n",
       "<style scoped>\n",
       "    .dataframe tbody tr th:only-of-type {\n",
       "        vertical-align: middle;\n",
       "    }\n",
       "\n",
       "    .dataframe tbody tr th {\n",
       "        vertical-align: top;\n",
       "    }\n",
       "\n",
       "    .dataframe thead th {\n",
       "        text-align: right;\n",
       "    }\n",
       "</style>\n",
       "<table border=\"1\" class=\"dataframe\">\n",
       "  <thead>\n",
       "    <tr style=\"text-align: right;\">\n",
       "      <th></th>\n",
       "      <th>Propietario</th>\n",
       "      <th>zona_star</th>\n",
       "      <th>plazo_star</th>\n",
       "      <th>tamaño_star</th>\n",
       "      <th>precio_star</th>\n",
       "    </tr>\n",
       "  </thead>\n",
       "  <tbody>\n",
       "    <tr>\n",
       "      <td>0</td>\n",
       "      <td>Star-division</td>\n",
       "      <td>Zona I</td>\n",
       "      <td>Dia siguiente</td>\n",
       "      <td>Chico</td>\n",
       "      <td>106</td>\n",
       "    </tr>\n",
       "    <tr>\n",
       "      <td>1</td>\n",
       "      <td>Star-division</td>\n",
       "      <td>Zona I</td>\n",
       "      <td>Dia siguiente</td>\n",
       "      <td>Grande</td>\n",
       "      <td>171</td>\n",
       "    </tr>\n",
       "    <tr>\n",
       "      <td>2</td>\n",
       "      <td>Star-division</td>\n",
       "      <td>Zona I</td>\n",
       "      <td>Dia siguiente</td>\n",
       "      <td>Mediano</td>\n",
       "      <td>134</td>\n",
       "    </tr>\n",
       "    <tr>\n",
       "      <td>3</td>\n",
       "      <td>Star-division</td>\n",
       "      <td>Zona I</td>\n",
       "      <td>Mismo dia</td>\n",
       "      <td>Chico</td>\n",
       "      <td>132</td>\n",
       "    </tr>\n",
       "    <tr>\n",
       "      <td>4</td>\n",
       "      <td>Star-division</td>\n",
       "      <td>Zona I</td>\n",
       "      <td>Mismo dia</td>\n",
       "      <td>Grande</td>\n",
       "      <td>215</td>\n",
       "    </tr>\n",
       "  </tbody>\n",
       "</table>\n",
       "</div>"
      ],
      "text/plain": [
       "     Propietario zona_star     plazo_star tamaño_star  precio_star\n",
       "0  Star-division    Zona I  Dia siguiente       Chico          106\n",
       "1  Star-division    Zona I  Dia siguiente      Grande          171\n",
       "2  Star-division    Zona I  Dia siguiente     Mediano          134\n",
       "3  Star-division    Zona I      Mismo dia       Chico          132\n",
       "4  Star-division    Zona I      Mismo dia      Grande          215"
      ]
     },
     "execution_count": 127,
     "metadata": {},
     "output_type": "execute_result"
    }
   ],
   "source": [
    "dfst.head()"
   ]
  },
  {
   "cell_type": "code",
   "execution_count": 128,
   "metadata": {},
   "outputs": [],
   "source": [
    "dfst['Propietario'] = dfst['Propietario'].str.lower().str.strip().str.replace(' ', '_').str.replace('á', 'a').str.replace('é', 'e').str.replace('í', 'i').str.replace('ó', 'o').str.replace('ú', 'u')"
   ]
  },
  {
   "cell_type": "code",
   "execution_count": 129,
   "metadata": {},
   "outputs": [],
   "source": [
    "##Paquetes + precio de paquetes para clientes de Star-division\n",
    "dfult = pd.merge(dfpqproppxcl, dfst, how='left',\n",
    "                       left_on=['Propietario','Zona_clasif_OPL', 'Plazo', 'Tamaño'],\n",
    "                       right_on=['Propietario', 'zona_star', 'plazo_star', 'tamaño_star'], sort=True)"
   ]
  },
  {
   "cell_type": "code",
   "execution_count": 130,
   "metadata": {},
   "outputs": [],
   "source": [
    "##Completo con 0 la columna precio_star para todos los propietarios que no son Star\n",
    "dfult['precio_star'].fillna(0, inplace=True)\n",
    "\n",
    "##Reemplazo por 0 los que correponden a transacciones de Star\n",
    "dfult.loc[dfult['OPL Entrega'] == 'star-division', 'precio_star'] = 0"
   ]
  },
  {
   "cell_type": "code",
   "execution_count": 131,
   "metadata": {},
   "outputs": [],
   "source": [
    "dfplus = pd.read_excel ('Plus paquers.xlsx')"
   ]
  },
  {
   "cell_type": "code",
   "execution_count": 132,
   "metadata": {},
   "outputs": [
    {
     "data": {
      "text/html": [
       "<div>\n",
       "<style scoped>\n",
       "    .dataframe tbody tr th:only-of-type {\n",
       "        vertical-align: middle;\n",
       "    }\n",
       "\n",
       "    .dataframe tbody tr th {\n",
       "        vertical-align: top;\n",
       "    }\n",
       "\n",
       "    .dataframe thead th {\n",
       "        text-align: right;\n",
       "    }\n",
       "</style>\n",
       "<table border=\"1\" class=\"dataframe\">\n",
       "  <thead>\n",
       "    <tr style=\"text-align: right;\">\n",
       "      <th></th>\n",
       "      <th>opl_entrega_plus</th>\n",
       "      <th>zona_plus</th>\n",
       "      <th>año_plus</th>\n",
       "      <th>mes_plus</th>\n",
       "      <th>plus</th>\n",
       "    </tr>\n",
       "  </thead>\n",
       "  <tbody>\n",
       "    <tr>\n",
       "      <td>0</td>\n",
       "      <td>paquery</td>\n",
       "      <td>la_plata</td>\n",
       "      <td>2020</td>\n",
       "      <td>1</td>\n",
       "      <td>20</td>\n",
       "    </tr>\n",
       "    <tr>\n",
       "      <td>1</td>\n",
       "      <td>paquery</td>\n",
       "      <td>la_plata</td>\n",
       "      <td>2020</td>\n",
       "      <td>2</td>\n",
       "      <td>20</td>\n",
       "    </tr>\n",
       "    <tr>\n",
       "      <td>2</td>\n",
       "      <td>paquery</td>\n",
       "      <td>la_plata</td>\n",
       "      <td>2020</td>\n",
       "      <td>3</td>\n",
       "      <td>20</td>\n",
       "    </tr>\n",
       "    <tr>\n",
       "      <td>3</td>\n",
       "      <td>paquery</td>\n",
       "      <td>la_plata</td>\n",
       "      <td>2020</td>\n",
       "      <td>4</td>\n",
       "      <td>20</td>\n",
       "    </tr>\n",
       "    <tr>\n",
       "      <td>4</td>\n",
       "      <td>paquery</td>\n",
       "      <td>la_plata</td>\n",
       "      <td>2020</td>\n",
       "      <td>5</td>\n",
       "      <td>20</td>\n",
       "    </tr>\n",
       "  </tbody>\n",
       "</table>\n",
       "</div>"
      ],
      "text/plain": [
       "  opl_entrega_plus zona_plus  año_plus  mes_plus  plus\n",
       "0          paquery  la_plata      2020         1    20\n",
       "1          paquery  la_plata      2020         2    20\n",
       "2          paquery  la_plata      2020         3    20\n",
       "3          paquery  la_plata      2020         4    20\n",
       "4          paquery  la_plata      2020         5    20"
      ]
     },
     "execution_count": 132,
     "metadata": {},
     "output_type": "execute_result"
    }
   ],
   "source": [
    "dfplus.head()"
   ]
  },
  {
   "cell_type": "code",
   "execution_count": 133,
   "metadata": {},
   "outputs": [],
   "source": [
    "dfplus['opl_entrega_plus'] = dfplus['opl_entrega_plus'].str.lower().str.strip().str.replace(' ', '_').str.replace('á', 'a').str.replace('é', 'e').str.replace('í', 'i').str.replace('ó', 'o').str.replace('ú', 'u')\n",
    "dfplus['zona_plus'] = dfplus['zona_plus'].str.lower().str.strip().str.replace(' ', '_').str.replace('á', 'a').str.replace('é', 'e').str.replace('í', 'i').str.replace('ó', 'o').str.replace('ú', 'u')"
   ]
  },
  {
   "cell_type": "code",
   "execution_count": 134,
   "metadata": {},
   "outputs": [
    {
     "data": {
      "text/plain": [
       "Index(['1er Visita', '2da Visita', 'Arribo a Paquery Point', 'Cant. de Bultos',\n",
       "       'Codigo Postal', 'Costo Estimado', 'Creación', 'Código Externo',\n",
       "       'Descripción', 'Destino Comentarios', 'Destino Dir Comentarios',\n",
       "       'Dirección Origen', 'Dirección destino', 'Empresa', 'Estado',\n",
       "       'Fecha de Ingreso a Paquery', 'Fecha de entrega', 'Fecha en Poder',\n",
       "       'Motivo 1er visita', 'Motivo 2da visita', 'Nombre Origen',\n",
       "       'Nombre Paquer', 'Nombre destinatario', 'OPL Entrega', 'OPL Paquer',\n",
       "       'Paquer', 'Paquery Point', 'Plazo', 'Rollcontainer/Posición', 'Tamaño',\n",
       "       'Tipo', 'Usuario', 'Zona', 'Clientes 3ero', 'Cliente_mayorista',\n",
       "       'Cliente_facturacion', 'Zona_ppal', 'Zona_sec', 'Zona_cod_def',\n",
       "       'cod_default', 'cod_postal', 'Zona_cod', 'ambito_geo_facturacion',\n",
       "       'ambito_geo_costos', 'Paquery_Point', 'Zona_pqp', 'OPL_default_pqp',\n",
       "       'Zona_clasif_OPL', 'Zona_cod_def_ambito', 'ambito_geo_fact_def',\n",
       "       'Cliente_propietario', 'Propietario', 'OPL_pago', 'fecha_fc', 'año_fc',\n",
       "       'mes_fc', 'dia_fc', 'Linea', 'Pq x prop', 'Linea_pl', 'Rango_pq',\n",
       "       'Rango', 'Precio_pl', 'precio_adicional', 'Razón Social', 'CUIT',\n",
       "       'Cliente', 'Tipo de Servicio', 'Ámbito Geográfico', 'Año',\n",
       "       'Rango de paquetes (Plataforma)', 'Tipo_app_px', 'Mes', 'Precio',\n",
       "       'Linea_px', 'Plazo_pago', 'Tamaño_pago', 'Zona_costo', 'Costo',\n",
       "       'zona_star', 'plazo_star', 'tamaño_star', 'precio_star'],\n",
       "      dtype='object')"
      ]
     },
     "execution_count": 134,
     "metadata": {},
     "output_type": "execute_result"
    }
   ],
   "source": [
    "dfult.columns"
   ]
  },
  {
   "cell_type": "code",
   "execution_count": 135,
   "metadata": {},
   "outputs": [],
   "source": [
    "##Plus de pago a paquers por zona \n",
    "dfult = pd.merge(dfult, dfplus, how='left',\n",
    "                       left_on=['OPL Entrega','Zona', 'año_fc', 'mes_fc'],\n",
    "                       right_on=['opl_entrega_plus', 'zona_plus', 'año_plus', 'mes_plus'], sort=True)\n",
    "\n",
    "##Fill con 0 e incorporo al costo\n",
    "dfult['plus'].fillna(0, inplace=True)\n",
    "dfult['Costo'] = dfult['Costo'] + dfult['plus']"
   ]
  },
  {
   "cell_type": "code",
   "execution_count": 136,
   "metadata": {},
   "outputs": [],
   "source": [
    "##Excepciones\n",
    "dfult['Costo Estimado'].fillna(0, inplace=True)\n",
    "dfult['Costo Estimado'] = dfult['Costo Estimado'].astype(int)\n",
    "\n",
    "dfult.loc[((dfult['Nombre Paquer'] == 'Gustavo Santillan') &\n",
    "           (dfult['Empresa'] == 'enviopack') &\n",
    "           (dfult['Costo Estimado'] > 30000)), \n",
    "           'Costo'] = 200"
   ]
  },
  {
   "cell_type": "code",
   "execution_count": 137,
   "metadata": {},
   "outputs": [],
   "source": [
    "dfreg = pd.read_excel ('region.xlsx')"
   ]
  },
  {
   "cell_type": "code",
   "execution_count": 138,
   "metadata": {},
   "outputs": [
    {
     "data": {
      "text/plain": [
       "Index(['zona_region', 'region'], dtype='object')"
      ]
     },
     "execution_count": 138,
     "metadata": {},
     "output_type": "execute_result"
    }
   ],
   "source": [
    "dfreg.columns"
   ]
  },
  {
   "cell_type": "code",
   "execution_count": 139,
   "metadata": {},
   "outputs": [],
   "source": [
    "dfreg['zona_region'] = dfreg['zona_region'].str.lower().str.strip().str.replace(' ', '_').str.replace('á', 'a').str.replace('é', 'e').str.replace('í', 'i').str.replace('ó', 'o').str.replace('ú', 'u')"
   ]
  },
  {
   "cell_type": "code",
   "execution_count": 140,
   "metadata": {},
   "outputs": [],
   "source": [
    "dfult = pd.merge(dfult, dfreg, how='left',\n",
    "                       left_on=['Zona'],\n",
    "                       right_on=['zona_region'], sort=True)\n",
    "\n",
    "dfult['region'].fillna('interior', inplace=True)"
   ]
  },
  {
   "cell_type": "code",
   "execution_count": 141,
   "metadata": {},
   "outputs": [],
   "source": [
    "dfult.loc[(dfult['region'] == 'interior'), 'Costo'] = 0"
   ]
  },
  {
   "cell_type": "code",
   "execution_count": 142,
   "metadata": {},
   "outputs": [
    {
     "data": {
      "text/plain": [
       "(327784, 90)"
      ]
     },
     "execution_count": 142,
     "metadata": {},
     "output_type": "execute_result"
    }
   ],
   "source": [
    "dfult.shape"
   ]
  },
  {
   "cell_type": "code",
   "execution_count": 143,
   "metadata": {},
   "outputs": [
    {
     "data": {
      "text/plain": [
       "Index(['1er Visita', '2da Visita', 'Arribo a Paquery Point', 'Cant. de Bultos',\n",
       "       'Codigo Postal', 'Costo Estimado', 'Creación', 'Código Externo',\n",
       "       'Descripción', 'Destino Comentarios', 'Destino Dir Comentarios',\n",
       "       'Dirección Origen', 'Dirección destino', 'Empresa', 'Estado',\n",
       "       'Fecha de Ingreso a Paquery', 'Fecha de entrega', 'Fecha en Poder',\n",
       "       'Motivo 1er visita', 'Motivo 2da visita', 'Nombre Origen',\n",
       "       'Nombre Paquer', 'Nombre destinatario', 'OPL Entrega', 'OPL Paquer',\n",
       "       'Paquer', 'Paquery Point', 'Plazo', 'Rollcontainer/Posición', 'Tamaño',\n",
       "       'Tipo', 'Usuario', 'Zona', 'Clientes 3ero', 'Cliente_mayorista',\n",
       "       'Cliente_facturacion', 'Zona_ppal', 'Zona_sec', 'Zona_cod_def',\n",
       "       'cod_default', 'cod_postal', 'Zona_cod', 'ambito_geo_facturacion',\n",
       "       'ambito_geo_costos', 'Paquery_Point', 'Zona_pqp', 'OPL_default_pqp',\n",
       "       'Zona_clasif_OPL', 'Zona_cod_def_ambito', 'ambito_geo_fact_def',\n",
       "       'Cliente_propietario', 'Propietario', 'OPL_pago', 'fecha_fc', 'año_fc',\n",
       "       'mes_fc', 'dia_fc', 'Linea', 'Pq x prop', 'Linea_pl', 'Rango_pq',\n",
       "       'Rango', 'Precio_pl', 'precio_adicional', 'Razón Social', 'CUIT',\n",
       "       'Cliente', 'Tipo de Servicio', 'Ámbito Geográfico', 'Año',\n",
       "       'Rango de paquetes (Plataforma)', 'Tipo_app_px', 'Mes', 'Precio',\n",
       "       'Linea_px', 'Plazo_pago', 'Tamaño_pago', 'Zona_costo', 'Costo',\n",
       "       'zona_star', 'plazo_star', 'tamaño_star', 'precio_star',\n",
       "       'opl_entrega_plus', 'zona_plus', 'año_plus', 'mes_plus', 'plus',\n",
       "       'zona_region', 'region'],\n",
       "      dtype='object')"
      ]
     },
     "execution_count": 143,
     "metadata": {},
     "output_type": "execute_result"
    }
   ],
   "source": [
    "dfult.columns"
   ]
  },
  {
   "cell_type": "code",
   "execution_count": 144,
   "metadata": {},
   "outputs": [
    {
     "data": {
      "text/plain": [
       "Index(['Codigo Postal', 'Provincia', 'TRONCAL', 'ULTIMA MILLA', 'Operador',\n",
       "       'Tamaño_and', 'Tamaño_and_2', 'peso_and', 'zona_and', 'año_and',\n",
       "       'mes_and', 'costo_tron', 'sub-zona_and', 'costo_ent'],\n",
       "      dtype='object')"
      ]
     },
     "execution_count": 144,
     "metadata": {},
     "output_type": "execute_result"
    }
   ],
   "source": [
    "dfc_and.columns"
   ]
  },
  {
   "cell_type": "code",
   "execution_count": 145,
   "metadata": {},
   "outputs": [
    {
     "data": {
      "text/plain": [
       "Index(['Codigo Postal', 'Provincia', 'TRONCAL', 'ULTIMA MILLA', 'Operador',\n",
       "       'Tamaño_and', 'Tamaño_and_2', 'peso_and', 'zona_and', 'año_and',\n",
       "       'mes_and', 'costo_tron', 'sub-zona_and', 'costo_ent'],\n",
       "      dtype='object')"
      ]
     },
     "execution_count": 145,
     "metadata": {},
     "output_type": "execute_result"
    }
   ],
   "source": [
    "dfc_and.columns"
   ]
  },
  {
   "cell_type": "code",
   "execution_count": 146,
   "metadata": {},
   "outputs": [
    {
     "data": {
      "text/html": [
       "<div>\n",
       "<style scoped>\n",
       "    .dataframe tbody tr th:only-of-type {\n",
       "        vertical-align: middle;\n",
       "    }\n",
       "\n",
       "    .dataframe tbody tr th {\n",
       "        vertical-align: top;\n",
       "    }\n",
       "\n",
       "    .dataframe thead th {\n",
       "        text-align: right;\n",
       "    }\n",
       "</style>\n",
       "<table border=\"1\" class=\"dataframe\">\n",
       "  <thead>\n",
       "    <tr style=\"text-align: right;\">\n",
       "      <th></th>\n",
       "      <th>Codigo Postal</th>\n",
       "      <th>Provincia</th>\n",
       "      <th>TRONCAL</th>\n",
       "      <th>ULTIMA MILLA</th>\n",
       "      <th>Operador</th>\n",
       "      <th>Tamaño_and</th>\n",
       "      <th>Tamaño_and_2</th>\n",
       "      <th>peso_and</th>\n",
       "      <th>zona_and</th>\n",
       "      <th>año_and</th>\n",
       "      <th>mes_and</th>\n",
       "      <th>costo_tron</th>\n",
       "      <th>sub-zona_and</th>\n",
       "      <th>costo_ent</th>\n",
       "    </tr>\n",
       "  </thead>\n",
       "  <tbody>\n",
       "    <tr>\n",
       "      <td>0</td>\n",
       "      <td>2000</td>\n",
       "      <td>SANTA FE</td>\n",
       "      <td>Zona I</td>\n",
       "      <td>Cabecera</td>\n",
       "      <td>LH-Paquery</td>\n",
       "      <td>Chico</td>\n",
       "      <td>Hasta 80cm lineales</td>\n",
       "      <td>Hasta 5kg</td>\n",
       "      <td>Zona I</td>\n",
       "      <td>2020</td>\n",
       "      <td>1</td>\n",
       "      <td>96.0</td>\n",
       "      <td>Cabecera</td>\n",
       "      <td>107.0</td>\n",
       "    </tr>\n",
       "    <tr>\n",
       "      <td>1</td>\n",
       "      <td>2121</td>\n",
       "      <td>SANTA FE</td>\n",
       "      <td>Zona I</td>\n",
       "      <td>Cabecera</td>\n",
       "      <td>Andesmar</td>\n",
       "      <td>Chico</td>\n",
       "      <td>Hasta 80cm lineales</td>\n",
       "      <td>Hasta 5kg</td>\n",
       "      <td>Zona I</td>\n",
       "      <td>2020</td>\n",
       "      <td>1</td>\n",
       "      <td>96.0</td>\n",
       "      <td>Cabecera</td>\n",
       "      <td>107.0</td>\n",
       "    </tr>\n",
       "    <tr>\n",
       "      <td>2</td>\n",
       "      <td>3000</td>\n",
       "      <td>SANTA FE</td>\n",
       "      <td>Zona I</td>\n",
       "      <td>Cabecera</td>\n",
       "      <td>Andesmar</td>\n",
       "      <td>Chico</td>\n",
       "      <td>Hasta 80cm lineales</td>\n",
       "      <td>Hasta 5kg</td>\n",
       "      <td>Zona I</td>\n",
       "      <td>2020</td>\n",
       "      <td>1</td>\n",
       "      <td>96.0</td>\n",
       "      <td>Cabecera</td>\n",
       "      <td>107.0</td>\n",
       "    </tr>\n",
       "    <tr>\n",
       "      <td>3</td>\n",
       "      <td>3100</td>\n",
       "      <td>ENTRE RIOS</td>\n",
       "      <td>Zona I</td>\n",
       "      <td>Cabecera</td>\n",
       "      <td>Andesmar</td>\n",
       "      <td>Chico</td>\n",
       "      <td>Hasta 80cm lineales</td>\n",
       "      <td>Hasta 5kg</td>\n",
       "      <td>Zona I</td>\n",
       "      <td>2020</td>\n",
       "      <td>1</td>\n",
       "      <td>96.0</td>\n",
       "      <td>Cabecera</td>\n",
       "      <td>107.0</td>\n",
       "    </tr>\n",
       "    <tr>\n",
       "      <td>4</td>\n",
       "      <td>7600</td>\n",
       "      <td>BUENOS AIRES</td>\n",
       "      <td>Zona I</td>\n",
       "      <td>Cabecera</td>\n",
       "      <td>Andesmar</td>\n",
       "      <td>Chico</td>\n",
       "      <td>Hasta 80cm lineales</td>\n",
       "      <td>Hasta 5kg</td>\n",
       "      <td>Zona I</td>\n",
       "      <td>2020</td>\n",
       "      <td>1</td>\n",
       "      <td>96.0</td>\n",
       "      <td>Cabecera</td>\n",
       "      <td>107.0</td>\n",
       "    </tr>\n",
       "  </tbody>\n",
       "</table>\n",
       "</div>"
      ],
      "text/plain": [
       "   Codigo Postal     Provincia TRONCAL ULTIMA MILLA    Operador Tamaño_and  \\\n",
       "0           2000      SANTA FE  Zona I     Cabecera  LH-Paquery      Chico   \n",
       "1           2121      SANTA FE  Zona I     Cabecera    Andesmar      Chico   \n",
       "2           3000      SANTA FE  Zona I     Cabecera    Andesmar      Chico   \n",
       "3           3100    ENTRE RIOS  Zona I     Cabecera    Andesmar      Chico   \n",
       "4           7600  BUENOS AIRES  Zona I     Cabecera    Andesmar      Chico   \n",
       "\n",
       "          Tamaño_and_2   peso_and zona_and  año_and mes_and  costo_tron  \\\n",
       "0  Hasta 80cm lineales  Hasta 5kg   Zona I     2020       1        96.0   \n",
       "1  Hasta 80cm lineales  Hasta 5kg   Zona I     2020       1        96.0   \n",
       "2  Hasta 80cm lineales  Hasta 5kg   Zona I     2020       1        96.0   \n",
       "3  Hasta 80cm lineales  Hasta 5kg   Zona I     2020       1        96.0   \n",
       "4  Hasta 80cm lineales  Hasta 5kg   Zona I     2020       1        96.0   \n",
       "\n",
       "  sub-zona_and  costo_ent  \n",
       "0     Cabecera      107.0  \n",
       "1     Cabecera      107.0  \n",
       "2     Cabecera      107.0  \n",
       "3     Cabecera      107.0  \n",
       "4     Cabecera      107.0  "
      ]
     },
     "execution_count": 146,
     "metadata": {},
     "output_type": "execute_result"
    }
   ],
   "source": [
    "dfc_and.head()"
   ]
  },
  {
   "cell_type": "code",
   "execution_count": 147,
   "metadata": {},
   "outputs": [],
   "source": [
    "dfult['Codigo Postal'] = dfult['Codigo Postal'].astype(int)"
   ]
  },
  {
   "cell_type": "code",
   "execution_count": 148,
   "metadata": {},
   "outputs": [
    {
     "data": {
      "text/plain": [
       "1er Visita                datetime64[ns]\n",
       "2da Visita                datetime64[ns]\n",
       "Arribo a Paquery Point    datetime64[ns]\n",
       "Cant. de Bultos                    int32\n",
       "Codigo Postal                      int32\n",
       "                               ...      \n",
       "año_plus                         float64\n",
       "mes_plus                         float64\n",
       "plus                             float64\n",
       "zona_region                       object\n",
       "region                            object\n",
       "Length: 90, dtype: object"
      ]
     },
     "execution_count": 148,
     "metadata": {},
     "output_type": "execute_result"
    }
   ],
   "source": [
    "dfult.dtypes"
   ]
  },
  {
   "cell_type": "code",
   "execution_count": 149,
   "metadata": {},
   "outputs": [],
   "source": [
    "dfult['año_fc'] = dfult['año_fc'].astype(int)\n",
    "dfult['mes_fc'] = dfult['mes_fc'].astype(int)\n",
    "\n",
    "dfc_and['año_and'] = dfc_and['año_and'].astype(int)\n",
    "dfc_and['mes_and'] = dfc_and['mes_and'].astype(int)"
   ]
  },
  {
   "cell_type": "code",
   "execution_count": 150,
   "metadata": {},
   "outputs": [],
   "source": [
    "dfult2 = pd.merge(dfult, dfc_and, how='left',\n",
    "                       left_on=['año_fc', 'mes_fc', 'Codigo Postal', 'Tamaño'],\n",
    "                       right_on=['año_and', 'mes_and', 'Codigo Postal', 'Tamaño_and'], sort=True)"
   ]
  },
  {
   "cell_type": "code",
   "execution_count": 151,
   "metadata": {},
   "outputs": [
    {
     "data": {
      "text/plain": [
       "(327784, 90)"
      ]
     },
     "execution_count": 151,
     "metadata": {},
     "output_type": "execute_result"
    }
   ],
   "source": [
    "dfult.shape"
   ]
  },
  {
   "cell_type": "code",
   "execution_count": 152,
   "metadata": {},
   "outputs": [
    {
     "data": {
      "text/plain": [
       "(327784, 103)"
      ]
     },
     "execution_count": 152,
     "metadata": {},
     "output_type": "execute_result"
    }
   ],
   "source": [
    "dfult2.shape"
   ]
  },
  {
   "cell_type": "code",
   "execution_count": 153,
   "metadata": {},
   "outputs": [
    {
     "data": {
      "text/plain": [
       "Grande      4030\n",
       "Grande 2    4030\n",
       "Mediano     4030\n",
       "Mini        4030\n",
       "Chico       4030\n",
       "Name: Tamaño_and, dtype: int64"
      ]
     },
     "execution_count": 153,
     "metadata": {},
     "output_type": "execute_result"
    }
   ],
   "source": [
    "dfc_and['Tamaño_and'].value_counts()"
   ]
  },
  {
   "cell_type": "code",
   "execution_count": 154,
   "metadata": {},
   "outputs": [
    {
     "data": {
      "text/plain": [
       "Chico      225921\n",
       "Mediano     68783\n",
       "Grande      33080\n",
       "Name: Tamaño, dtype: int64"
      ]
     },
     "execution_count": 154,
     "metadata": {},
     "output_type": "execute_result"
    }
   ],
   "source": [
    "dfult['Tamaño'].value_counts()"
   ]
  },
  {
   "cell_type": "code",
   "execution_count": 155,
   "metadata": {},
   "outputs": [
    {
     "data": {
      "text/plain": [
       "0.0    27244\n",
       "Name: Costo, dtype: int64"
      ]
     },
     "execution_count": 155,
     "metadata": {},
     "output_type": "execute_result"
    }
   ],
   "source": [
    "dfult2['Costo'].loc[(dfult2['region'] == 'interior')].value_counts()"
   ]
  },
  {
   "cell_type": "code",
   "execution_count": 156,
   "metadata": {},
   "outputs": [],
   "source": [
    "dfult2['Costo'] = np.where(dfult2['region'] == 'interior', dfult2['costo_ent'] + dfult2['costo_tron'], dfult2['Costo'])"
   ]
  },
  {
   "cell_type": "code",
   "execution_count": 157,
   "metadata": {},
   "outputs": [
    {
     "data": {
      "text/html": [
       "<div>\n",
       "<style scoped>\n",
       "    .dataframe tbody tr th:only-of-type {\n",
       "        vertical-align: middle;\n",
       "    }\n",
       "\n",
       "    .dataframe tbody tr th {\n",
       "        vertical-align: top;\n",
       "    }\n",
       "\n",
       "    .dataframe thead th {\n",
       "        text-align: right;\n",
       "    }\n",
       "</style>\n",
       "<table border=\"1\" class=\"dataframe\">\n",
       "  <thead>\n",
       "    <tr style=\"text-align: right;\">\n",
       "      <th></th>\n",
       "      <th>Tamaño</th>\n",
       "      <th>Costo</th>\n",
       "      <th>Mes</th>\n",
       "      <th>Año</th>\n",
       "    </tr>\n",
       "    <tr>\n",
       "      <th>Codigo Postal</th>\n",
       "      <th></th>\n",
       "      <th></th>\n",
       "      <th></th>\n",
       "      <th></th>\n",
       "    </tr>\n",
       "  </thead>\n",
       "  <tbody>\n",
       "    <tr>\n",
       "      <td>2700</td>\n",
       "      <td>1</td>\n",
       "      <td>0</td>\n",
       "      <td>0</td>\n",
       "      <td>0</td>\n",
       "    </tr>\n",
       "    <tr>\n",
       "      <td>2901</td>\n",
       "      <td>1</td>\n",
       "      <td>0</td>\n",
       "      <td>0</td>\n",
       "      <td>0</td>\n",
       "    </tr>\n",
       "    <tr>\n",
       "      <td>3006</td>\n",
       "      <td>1</td>\n",
       "      <td>0</td>\n",
       "      <td>0</td>\n",
       "      <td>0</td>\n",
       "    </tr>\n",
       "    <tr>\n",
       "      <td>3300</td>\n",
       "      <td>2</td>\n",
       "      <td>0</td>\n",
       "      <td>1</td>\n",
       "      <td>1</td>\n",
       "    </tr>\n",
       "    <tr>\n",
       "      <td>4401</td>\n",
       "      <td>1</td>\n",
       "      <td>0</td>\n",
       "      <td>0</td>\n",
       "      <td>0</td>\n",
       "    </tr>\n",
       "  </tbody>\n",
       "</table>\n",
       "</div>"
      ],
      "text/plain": [
       "               Tamaño  Costo  Mes  Año\n",
       "Codigo Postal                         \n",
       "2700                1      0    0    0\n",
       "2901                1      0    0    0\n",
       "3006                1      0    0    0\n",
       "3300                2      0    1    1\n",
       "4401                1      0    0    0"
      ]
     },
     "execution_count": 157,
     "metadata": {},
     "output_type": "execute_result"
    }
   ],
   "source": [
    "dfult2[['Tamaño', 'Codigo Postal', 'Costo', 'Mes', 'Año']].loc[(dfult2['region'] == 'interior') & \n",
    "                                                               (dfult2['Costo'].isnull())].groupby('Codigo Postal').agg('count')"
   ]
  },
  {
   "cell_type": "code",
   "execution_count": 158,
   "metadata": {},
   "outputs": [
    {
     "data": {
      "text/plain": [
       "Codigo Postal\n",
       "1000     237\n",
       "1001     236\n",
       "1002    2955\n",
       "1003      92\n",
       "1004     152\n",
       "        ... \n",
       "7603     251\n",
       "7605      41\n",
       "8000      21\n",
       "8300      11\n",
       "8500       3\n",
       "Name: Costo, Length: 670, dtype: int64"
      ]
     },
     "execution_count": 158,
     "metadata": {},
     "output_type": "execute_result"
    }
   ],
   "source": [
    "dfult2['Costo'].isnull().groupby(dfult2['Codigo Postal']).agg('count')"
   ]
  },
  {
   "cell_type": "code",
   "execution_count": 159,
   "metadata": {},
   "outputs": [
    {
     "data": {
      "text/plain": [
       "False    27238\n",
       "True         6\n",
       "Name: Costo, dtype: int64"
      ]
     },
     "execution_count": 159,
     "metadata": {},
     "output_type": "execute_result"
    }
   ],
   "source": [
    "dfult2['Costo'].loc[(dfult2['region'] == 'interior')].isnull().value_counts()"
   ]
  },
  {
   "cell_type": "code",
   "execution_count": 160,
   "metadata": {},
   "outputs": [],
   "source": [
    "dfult2.loc[(dfult2['Linea'] == 'Transacción'), 'Costo'] = 0"
   ]
  },
  {
   "cell_type": "code",
   "execution_count": 161,
   "metadata": {},
   "outputs": [],
   "source": [
    "#Precio adicional de Club de beneficios y Unilever\n",
    "dfult2['Precio'] = dfult2['Precio'] + dfult2['precio_adicional']"
   ]
  },
  {
   "cell_type": "code",
   "execution_count": 162,
   "metadata": {},
   "outputs": [
    {
     "data": {
      "text/plain": [
       "0.0    11569\n",
       "Name: Costo, dtype: int64"
      ]
     },
     "execution_count": 162,
     "metadata": {},
     "output_type": "execute_result"
    }
   ],
   "source": [
    "dfult2['Costo'].loc[(dfult2['Costo']==0) & (dfult2['mes_fc']==9)].value_counts()"
   ]
  },
  {
   "cell_type": "code",
   "execution_count": 163,
   "metadata": {},
   "outputs": [],
   "source": [
    "dfcom = pd.read_excel ('comisiones.xlsx')"
   ]
  },
  {
   "cell_type": "code",
   "execution_count": 164,
   "metadata": {},
   "outputs": [],
   "source": [
    "dfcom['empresa'] = dfcom['empresa'].str.lower().str.strip().str.replace(' ', '_').str.replace('á', 'a').str.replace('é', 'e').str.replace('í', 'i').str.replace('ó', 'o').str.replace('ú', 'u')\n",
    "dfcom['Tipo_comision'] = dfcom['Tipo_comision'].str.lower().str.strip().str.replace(' ', '_').str.replace('á', 'a').str.replace('é', 'e').str.replace('í', 'i').str.replace('ó', 'o').str.replace('ú', 'u')"
   ]
  },
  {
   "cell_type": "code",
   "execution_count": 165,
   "metadata": {},
   "outputs": [],
   "source": [
    "dfult2 = pd.merge(dfult2, dfcom, how='left',\n",
    "                       left_on=['Cliente_facturacion', 'Tipo'],\n",
    "                       right_on=['empresa', 'Tipo_comision'], sort=True)"
   ]
  },
  {
   "cell_type": "code",
   "execution_count": 166,
   "metadata": {},
   "outputs": [
    {
     "data": {
      "text/plain": [
       "datetime.timedelta(seconds=1228, microseconds=345951)"
      ]
     },
     "execution_count": 166,
     "metadata": {},
     "output_type": "execute_result"
    }
   ],
   "source": [
    "inicio = datetime.now()\n",
    "dfult2.to_excel(\"Paq x paq wip7.xlsx\")\n",
    "datetime.now() - inicio"
   ]
  }
 ],
 "metadata": {
  "kernelspec": {
   "display_name": "Python 3",
   "language": "python",
   "name": "python3"
  },
  "language_info": {
   "codemirror_mode": {
    "name": "ipython",
    "version": 3
   },
   "file_extension": ".py",
   "mimetype": "text/x-python",
   "name": "python",
   "nbconvert_exporter": "python",
   "pygments_lexer": "ipython3",
   "version": "3.7.4"
  }
 },
 "nbformat": 4,
 "nbformat_minor": 2
}
